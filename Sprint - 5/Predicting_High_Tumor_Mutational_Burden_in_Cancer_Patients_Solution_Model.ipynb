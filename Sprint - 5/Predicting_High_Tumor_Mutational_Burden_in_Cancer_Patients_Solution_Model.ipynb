{
 "cells": [
  {
   "cell_type": "markdown",
   "id": "3754768d",
   "metadata": {},
   "source": [
    "<div style=\"display:block\">\n",
    "<div style=\"width: 10%; display: inline-block; text-align: left;\">\n",
    "<img src=\"\n",
    "http://upload.wikimedia.org/wikipedia/en/0/0c/Mu_Sigma_Logo.jpg\"\n",
    "style=\"height:75px; margin-left:0px\" />\n",
    "</div>\n",
    "<div style=\"width: 69%; display: inline-block\">\n",
    "<h5  style=\"color:maroon; text-align: center; font-size:25px;\">Bricks - Solution Model for Predicting High TMB Status</h5>\n",
    "<div style=\"width: 90%; text-align: center; display: inline-block;\"><i>Author(s): </i> <strong>   Pradyumna K, Rakshitha MS , Surya Regalla, Akash Singh, Bhumika Tuli, Vinanth Kumar </strong> </div>\n",
    "</div>\n",
    "<div style=\"width: 20%; text-align: right; display: inline-block;\">\n",
    "<div style=\"width: 100%; text-align: left; display: inline-block;\">\n",
    "<i>Modified: November 8, 2024</i>\n",
    "</div>\n",
    "</div>\n",
    "</div>"
   ]
  },
  {
   "cell_type": "markdown",
   "id": "6b0d3d8a",
   "metadata": {},
   "source": [
    "## Importing all the modules and packages"
   ]
  },
  {
   "cell_type": "code",
   "execution_count": 1,
   "id": "9b49d253",
   "metadata": {},
   "outputs": [],
   "source": [
    "\n",
    "\n",
    "import pandas as pd\n",
    "import numpy as np                     \n",
    "import matplotlib.pyplot as plt             \n",
    "%matplotlib inline     \n",
    "import seaborn as sns\n",
    "from sklearn.preprocessing import MinMaxScaler\n",
    "from sklearn.preprocessing import LabelEncoder, OneHotEncoder, OrdinalEncoder\n",
    "\n",
    "from imblearn.combine import SMOTETomek\n",
    "from sklearn.model_selection import train_test_split\n",
    "from mlxtend.feature_selection import SequentialFeatureSelector as SFS\n",
    "from sklearn.ensemble import RandomForestClassifier\n",
    "from imblearn.ensemble import BalancedRandomForestClassifier\n",
    "from catboost import CatBoostClassifier\n",
    "from xgboost import XGBClassifier\n",
    "from sklearn.metrics import accuracy_score, classification_report, confusion_matrix, roc_auc_score, roc_curve, auc\n",
    "from sklearn.model_selection import GridSearchCV\n",
    "from sklearn.ensemble import VotingClassifier\n",
    "from sklearn.ensemble import StackingClassifier\n",
    "from sklearn.linear_model import LogisticRegression\n",
    "\n",
    "import warnings\n",
    "warnings.filterwarnings(\"ignore\", category=FutureWarning)\n",
    "warnings.filterwarnings(\"ignore\", category=UserWarning)"
   ]
  },
  {
   "cell_type": "code",
   "execution_count": 2,
   "id": "ae32d184",
   "metadata": {},
   "outputs": [
    {
     "name": "stdout",
     "output_type": "stream",
     "text": [
      "Defaulting to user installation because normal site-packages is not writeable\n",
      "Requirement already satisfied: scikit-learn in c:\\anaconda3\\lib\\site-packages (1.2.1)\n",
      "Collecting scikit-learn\n",
      "  Using cached scikit_learn-1.5.2-cp310-cp310-win_amd64.whl (11.0 MB)\n",
      "Requirement already satisfied: numpy in c:\\users\\vinanthkumar.hs\\appdata\\roaming\\python\\python310\\site-packages (1.26.4)\n",
      "Collecting numpy\n",
      "  Using cached numpy-2.1.3-cp310-cp310-win_amd64.whl (12.9 MB)\n",
      "Requirement already satisfied: threadpoolctl>=3.1.0 in c:\\users\\vinanthkumar.hs\\appdata\\roaming\\python\\python310\\site-packages (from scikit-learn) (3.5.0)\n",
      "Collecting joblib>=1.2.0\n",
      "  Using cached joblib-1.4.2-py3-none-any.whl (301 kB)\n",
      "Requirement already satisfied: scipy>=1.6.0 in c:\\anaconda3\\lib\\site-packages (from scikit-learn) (1.10.0)\n",
      "Installing collected packages: joblib, scikit-learn\n",
      "Successfully installed joblib-1.4.2 scikit-learn-1.5.2\n",
      "Note: you may need to restart the kernel to use updated packages.\n"
     ]
    },
    {
     "name": "stderr",
     "output_type": "stream",
     "text": [
      "WARNING: Ignoring invalid distribution -ensorflow-intel (c:\\users\\vinanthkumar.hs\\appdata\\roaming\\python\\python310\\site-packages)\n",
      "WARNING: Ignoring invalid distribution -ensorflow-intel (c:\\users\\vinanthkumar.hs\\appdata\\roaming\\python\\python310\\site-packages)\n",
      "WARNING: Ignoring invalid distribution -ensorflow-intel (c:\\users\\vinanthkumar.hs\\appdata\\roaming\\python\\python310\\site-packages)\n",
      "WARNING: Ignoring invalid distribution -ensorflow-intel (c:\\users\\vinanthkumar.hs\\appdata\\roaming\\python\\python310\\site-packages)\n",
      "WARNING: Ignoring invalid distribution -ensorflow-intel (c:\\users\\vinanthkumar.hs\\appdata\\roaming\\python\\python310\\site-packages)\n",
      "WARNING: Ignoring invalid distribution -ensorflow-intel (c:\\users\\vinanthkumar.hs\\appdata\\roaming\\python\\python310\\site-packages)\n",
      "WARNING: Ignoring invalid distribution -ensorflow-intel (c:\\users\\vinanthkumar.hs\\appdata\\roaming\\python\\python310\\site-packages)\n",
      "WARNING: Ignoring invalid distribution -ensorflow-intel (c:\\users\\vinanthkumar.hs\\appdata\\roaming\\python\\python310\\site-packages)\n"
     ]
    }
   ],
   "source": [
    "pip install --upgrade scikit-learn numpy\n"
   ]
  },
  {
   "cell_type": "code",
   "execution_count": 3,
   "id": "fd4923d7",
   "metadata": {},
   "outputs": [
    {
     "name": "stdout",
     "output_type": "stream",
     "text": [
      "Defaulting to user installation because normal site-packages is not writeable\n",
      "Requirement already satisfied: mlxtend in c:\\users\\vinanthkumar.hs\\appdata\\roaming\\python\\python310\\site-packages (0.23.1)\n",
      "Requirement already satisfied: scikit-learn>=1.0.2 in c:\\users\\vinanthkumar.hs\\appdata\\roaming\\python\\python310\\site-packages (from mlxtend) (1.5.2)\n",
      "Requirement already satisfied: scipy>=1.2.1 in c:\\anaconda3\\lib\\site-packages (from mlxtend) (1.10.0)\n",
      "Requirement already satisfied: joblib>=0.13.2 in c:\\users\\vinanthkumar.hs\\appdata\\roaming\\python\\python310\\site-packages (from mlxtend) (1.4.2)\n",
      "Requirement already satisfied: numpy>=1.16.2 in c:\\users\\vinanthkumar.hs\\appdata\\roaming\\python\\python310\\site-packages (from mlxtend) (1.26.4)\n",
      "Requirement already satisfied: pandas>=0.24.2 in c:\\anaconda3\\lib\\site-packages (from mlxtend) (1.5.3)\n",
      "Requirement already satisfied: matplotlib>=3.0.0 in c:\\anaconda3\\lib\\site-packages (from mlxtend) (3.7.0)\n",
      "Requirement already satisfied: fonttools>=4.22.0 in c:\\anaconda3\\lib\\site-packages (from matplotlib>=3.0.0->mlxtend) (4.25.0)\n",
      "Requirement already satisfied: packaging>=20.0 in c:\\anaconda3\\lib\\site-packages (from matplotlib>=3.0.0->mlxtend) (22.0)\n",
      "Requirement already satisfied: cycler>=0.10 in c:\\anaconda3\\lib\\site-packages (from matplotlib>=3.0.0->mlxtend) (0.11.0)\n",
      "Requirement already satisfied: kiwisolver>=1.0.1 in c:\\anaconda3\\lib\\site-packages (from matplotlib>=3.0.0->mlxtend) (1.4.4)\n",
      "Requirement already satisfied: pyparsing>=2.3.1 in c:\\anaconda3\\lib\\site-packages (from matplotlib>=3.0.0->mlxtend) (3.0.9)\n",
      "Requirement already satisfied: contourpy>=1.0.1 in c:\\anaconda3\\lib\\site-packages (from matplotlib>=3.0.0->mlxtend) (1.0.5)\n",
      "Requirement already satisfied: python-dateutil>=2.7 in c:\\anaconda3\\lib\\site-packages (from matplotlib>=3.0.0->mlxtend) (2.8.2)\n",
      "Requirement already satisfied: pillow>=6.2.0 in c:\\anaconda3\\lib\\site-packages (from matplotlib>=3.0.0->mlxtend) (9.4.0)\n",
      "Requirement already satisfied: pytz>=2020.1 in c:\\anaconda3\\lib\\site-packages (from pandas>=0.24.2->mlxtend) (2022.7)\n",
      "Requirement already satisfied: threadpoolctl>=3.1.0 in c:\\users\\vinanthkumar.hs\\appdata\\roaming\\python\\python310\\site-packages (from scikit-learn>=1.0.2->mlxtend) (3.5.0)\n",
      "Requirement already satisfied: six>=1.5 in c:\\anaconda3\\lib\\site-packages (from python-dateutil>=2.7->matplotlib>=3.0.0->mlxtend) (1.16.0)\n"
     ]
    },
    {
     "name": "stderr",
     "output_type": "stream",
     "text": [
      "WARNING: Ignoring invalid distribution -ensorflow-intel (c:\\users\\vinanthkumar.hs\\appdata\\roaming\\python\\python310\\site-packages)\n",
      "WARNING: Ignoring invalid distribution -ensorflow-intel (c:\\users\\vinanthkumar.hs\\appdata\\roaming\\python\\python310\\site-packages)\n",
      "WARNING: Ignoring invalid distribution -ensorflow-intel (c:\\users\\vinanthkumar.hs\\appdata\\roaming\\python\\python310\\site-packages)\n",
      "WARNING: Ignoring invalid distribution -ensorflow-intel (c:\\users\\vinanthkumar.hs\\appdata\\roaming\\python\\python310\\site-packages)\n",
      "WARNING: Ignoring invalid distribution -ensorflow-intel (c:\\users\\vinanthkumar.hs\\appdata\\roaming\\python\\python310\\site-packages)\n",
      "WARNING: Ignoring invalid distribution -ensorflow-intel (c:\\users\\vinanthkumar.hs\\appdata\\roaming\\python\\python310\\site-packages)\n"
     ]
    }
   ],
   "source": [
    "!pip install mlxtend\n"
   ]
  },
  {
   "cell_type": "code",
   "execution_count": 4,
   "id": "c77269b9",
   "metadata": {},
   "outputs": [
    {
     "name": "stdout",
     "output_type": "stream",
     "text": [
      "Defaulting to user installation because normal site-packages is not writeable\n",
      "Requirement already satisfied: catboost in c:\\users\\vinanthkumar.hs\\appdata\\roaming\\python\\python310\\site-packages (1.2.7)\n",
      "Requirement already satisfied: graphviz in c:\\users\\vinanthkumar.hs\\appdata\\roaming\\python\\python310\\site-packages (from catboost) (0.20.3)\n",
      "Requirement already satisfied: pandas>=0.24 in c:\\anaconda3\\lib\\site-packages (from catboost) (1.5.3)\n",
      "Requirement already satisfied: six in c:\\anaconda3\\lib\\site-packages (from catboost) (1.16.0)\n",
      "Requirement already satisfied: plotly in c:\\anaconda3\\lib\\site-packages (from catboost) (5.9.0)\n",
      "Requirement already satisfied: matplotlib in c:\\anaconda3\\lib\\site-packages (from catboost) (3.7.0)\n",
      "Requirement already satisfied: numpy<2.0,>=1.16.0 in c:\\users\\vinanthkumar.hs\\appdata\\roaming\\python\\python310\\site-packages (from catboost) (1.26.4)\n",
      "Requirement already satisfied: scipy in c:\\anaconda3\\lib\\site-packages (from catboost) (1.10.0)\n",
      "Requirement already satisfied: python-dateutil>=2.8.1 in c:\\anaconda3\\lib\\site-packages (from pandas>=0.24->catboost) (2.8.2)\n",
      "Requirement already satisfied: pytz>=2020.1 in c:\\anaconda3\\lib\\site-packages (from pandas>=0.24->catboost) (2022.7)\n",
      "Requirement already satisfied: cycler>=0.10 in c:\\anaconda3\\lib\\site-packages (from matplotlib->catboost) (0.11.0)\n",
      "Requirement already satisfied: packaging>=20.0 in c:\\anaconda3\\lib\\site-packages (from matplotlib->catboost) (22.0)\n",
      "Requirement already satisfied: pillow>=6.2.0 in c:\\anaconda3\\lib\\site-packages (from matplotlib->catboost) (9.4.0)\n",
      "Requirement already satisfied: contourpy>=1.0.1 in c:\\anaconda3\\lib\\site-packages (from matplotlib->catboost) (1.0.5)\n",
      "Requirement already satisfied: pyparsing>=2.3.1 in c:\\anaconda3\\lib\\site-packages (from matplotlib->catboost) (3.0.9)\n",
      "Requirement already satisfied: kiwisolver>=1.0.1 in c:\\anaconda3\\lib\\site-packages (from matplotlib->catboost) (1.4.4)\n",
      "Requirement already satisfied: fonttools>=4.22.0 in c:\\anaconda3\\lib\\site-packages (from matplotlib->catboost) (4.25.0)\n",
      "Requirement already satisfied: tenacity>=6.2.0 in c:\\users\\vinanthkumar.hs\\appdata\\roaming\\python\\python310\\site-packages (from plotly->catboost) (9.0.0)\n"
     ]
    },
    {
     "name": "stderr",
     "output_type": "stream",
     "text": [
      "WARNING: Ignoring invalid distribution -ensorflow-intel (c:\\users\\vinanthkumar.hs\\appdata\\roaming\\python\\python310\\site-packages)\n",
      "WARNING: Ignoring invalid distribution -ensorflow-intel (c:\\users\\vinanthkumar.hs\\appdata\\roaming\\python\\python310\\site-packages)\n",
      "WARNING: Ignoring invalid distribution -ensorflow-intel (c:\\users\\vinanthkumar.hs\\appdata\\roaming\\python\\python310\\site-packages)\n",
      "WARNING: Ignoring invalid distribution -ensorflow-intel (c:\\users\\vinanthkumar.hs\\appdata\\roaming\\python\\python310\\site-packages)\n",
      "WARNING: Ignoring invalid distribution -ensorflow-intel (c:\\users\\vinanthkumar.hs\\appdata\\roaming\\python\\python310\\site-packages)\n",
      "WARNING: Ignoring invalid distribution -ensorflow-intel (c:\\users\\vinanthkumar.hs\\appdata\\roaming\\python\\python310\\site-packages)\n"
     ]
    }
   ],
   "source": [
    "!pip install catboost\n"
   ]
  },
  {
   "cell_type": "code",
   "execution_count": 5,
   "id": "ad05fda8",
   "metadata": {},
   "outputs": [
    {
     "name": "stdout",
     "output_type": "stream",
     "text": [
      "Defaulting to user installation because normal site-packages is not writeable\n",
      "Requirement already satisfied: xgboost in c:\\users\\vinanthkumar.hs\\appdata\\roaming\\python\\python310\\site-packages (2.1.2)\n",
      "Requirement already satisfied: numpy in c:\\users\\vinanthkumar.hs\\appdata\\roaming\\python\\python310\\site-packages (from xgboost) (1.26.4)\n",
      "Requirement already satisfied: scipy in c:\\anaconda3\\lib\\site-packages (from xgboost) (1.10.0)\n"
     ]
    },
    {
     "name": "stderr",
     "output_type": "stream",
     "text": [
      "WARNING: Ignoring invalid distribution -ensorflow-intel (c:\\users\\vinanthkumar.hs\\appdata\\roaming\\python\\python310\\site-packages)\n",
      "WARNING: Ignoring invalid distribution -ensorflow-intel (c:\\users\\vinanthkumar.hs\\appdata\\roaming\\python\\python310\\site-packages)\n",
      "WARNING: Ignoring invalid distribution -ensorflow-intel (c:\\users\\vinanthkumar.hs\\appdata\\roaming\\python\\python310\\site-packages)\n",
      "WARNING: Ignoring invalid distribution -ensorflow-intel (c:\\users\\vinanthkumar.hs\\appdata\\roaming\\python\\python310\\site-packages)\n",
      "WARNING: Ignoring invalid distribution -ensorflow-intel (c:\\users\\vinanthkumar.hs\\appdata\\roaming\\python\\python310\\site-packages)\n",
      "WARNING: Ignoring invalid distribution -ensorflow-intel (c:\\users\\vinanthkumar.hs\\appdata\\roaming\\python\\python310\\site-packages)\n"
     ]
    }
   ],
   "source": [
    "!pip install xgboost"
   ]
  },
  {
   "cell_type": "code",
   "execution_count": 6,
   "id": "7e798b39",
   "metadata": {},
   "outputs": [
    {
     "data": {
      "text/html": [
       "<div>\n",
       "<style scoped>\n",
       "    .dataframe tbody tr th:only-of-type {\n",
       "        vertical-align: middle;\n",
       "    }\n",
       "\n",
       "    .dataframe tbody tr th {\n",
       "        vertical-align: top;\n",
       "    }\n",
       "\n",
       "    .dataframe thead th {\n",
       "        text-align: right;\n",
       "    }\n",
       "</style>\n",
       "<table border=\"1\" class=\"dataframe\">\n",
       "  <thead>\n",
       "    <tr style=\"text-align: right;\">\n",
       "      <th></th>\n",
       "      <th>Patient_ID</th>\n",
       "      <th>histology</th>\n",
       "      <th>groupstage</th>\n",
       "      <th>smokingstatus</th>\n",
       "      <th>practicetype</th>\n",
       "      <th>gender</th>\n",
       "      <th>ethnicity</th>\n",
       "      <th>race</th>\n",
       "      <th>age_idx</th>\n",
       "      <th>ecog_value</th>\n",
       "      <th>...</th>\n",
       "      <th>vital_res_5</th>\n",
       "      <th>vital_res_6</th>\n",
       "      <th>vital_res_7</th>\n",
       "      <th>vital_res_8</th>\n",
       "      <th>biomarkers_1</th>\n",
       "      <th>biomarkers_2</th>\n",
       "      <th>biomarkers_3</th>\n",
       "      <th>biomarkers_4</th>\n",
       "      <th>biomarkers_5</th>\n",
       "      <th>tmb_status</th>\n",
       "    </tr>\n",
       "  </thead>\n",
       "  <tbody>\n",
       "    <tr>\n",
       "      <th>0</th>\n",
       "      <td>P1</td>\n",
       "      <td>Squamous cell carcinoma</td>\n",
       "      <td>Stage IV</td>\n",
       "      <td>History of smoking</td>\n",
       "      <td>COMMUNITY</td>\n",
       "      <td>M</td>\n",
       "      <td>EUR</td>\n",
       "      <td>White</td>\n",
       "      <td>72</td>\n",
       "      <td>3.0</td>\n",
       "      <td>...</td>\n",
       "      <td>18</td>\n",
       "      <td>2.05</td>\n",
       "      <td>37</td>\n",
       "      <td>0.000000</td>\n",
       "      <td>POSITIVE</td>\n",
       "      <td>POSITIVE</td>\n",
       "      <td>POSITIVE</td>\n",
       "      <td>POSITIVE</td>\n",
       "      <td>POSITIVE</td>\n",
       "      <td>Low</td>\n",
       "    </tr>\n",
       "    <tr>\n",
       "      <th>1</th>\n",
       "      <td>P2</td>\n",
       "      <td>Squamous cell carcinoma</td>\n",
       "      <td>Stage IV</td>\n",
       "      <td>History of smoking</td>\n",
       "      <td>COMMUNITY</td>\n",
       "      <td>M</td>\n",
       "      <td>EUR</td>\n",
       "      <td>White</td>\n",
       "      <td>47</td>\n",
       "      <td>3.0</td>\n",
       "      <td>...</td>\n",
       "      <td>18</td>\n",
       "      <td>2.05</td>\n",
       "      <td>37</td>\n",
       "      <td>0.000000</td>\n",
       "      <td>POSITIVE</td>\n",
       "      <td>POSITIVE</td>\n",
       "      <td>POSITIVE</td>\n",
       "      <td>POSITIVE</td>\n",
       "      <td>POSITIVE</td>\n",
       "      <td>Low</td>\n",
       "    </tr>\n",
       "    <tr>\n",
       "      <th>2</th>\n",
       "      <td>P3</td>\n",
       "      <td>NSCLC histology NOS</td>\n",
       "      <td>Stage IV</td>\n",
       "      <td>History of smoking</td>\n",
       "      <td>COMMUNITY</td>\n",
       "      <td>M</td>\n",
       "      <td>NaN</td>\n",
       "      <td>White</td>\n",
       "      <td>61</td>\n",
       "      <td>0.0</td>\n",
       "      <td>...</td>\n",
       "      <td>18</td>\n",
       "      <td>2.05</td>\n",
       "      <td>37</td>\n",
       "      <td>60.696495</td>\n",
       "      <td>POSITIVE</td>\n",
       "      <td>POSITIVE</td>\n",
       "      <td>POSITIVE</td>\n",
       "      <td>POSITIVE</td>\n",
       "      <td>POSITIVE</td>\n",
       "      <td>Low</td>\n",
       "    </tr>\n",
       "    <tr>\n",
       "      <th>3</th>\n",
       "      <td>P4</td>\n",
       "      <td>Non-squamous cell carcinoma</td>\n",
       "      <td>Stage IV</td>\n",
       "      <td>History of smoking</td>\n",
       "      <td>COMMUNITY</td>\n",
       "      <td>M</td>\n",
       "      <td>EUR</td>\n",
       "      <td>White</td>\n",
       "      <td>82</td>\n",
       "      <td>0.0</td>\n",
       "      <td>...</td>\n",
       "      <td>18</td>\n",
       "      <td>2.05</td>\n",
       "      <td>37</td>\n",
       "      <td>24.216821</td>\n",
       "      <td>POSITIVE</td>\n",
       "      <td>POSITIVE</td>\n",
       "      <td>POSITIVE</td>\n",
       "      <td>POSITIVE</td>\n",
       "      <td>POSITIVE</td>\n",
       "      <td>Low</td>\n",
       "    </tr>\n",
       "    <tr>\n",
       "      <th>4</th>\n",
       "      <td>P5</td>\n",
       "      <td>Non-squamous cell carcinoma</td>\n",
       "      <td>Stage IV</td>\n",
       "      <td>History of smoking</td>\n",
       "      <td>ACADEMIC</td>\n",
       "      <td>M</td>\n",
       "      <td>NaN</td>\n",
       "      <td>White</td>\n",
       "      <td>67</td>\n",
       "      <td>3.0</td>\n",
       "      <td>...</td>\n",
       "      <td>18</td>\n",
       "      <td>2.05</td>\n",
       "      <td>37</td>\n",
       "      <td>0.000000</td>\n",
       "      <td>POSITIVE</td>\n",
       "      <td>POSITIVE</td>\n",
       "      <td>POSITIVE</td>\n",
       "      <td>POSITIVE</td>\n",
       "      <td>POSITIVE</td>\n",
       "      <td>Low</td>\n",
       "    </tr>\n",
       "  </tbody>\n",
       "</table>\n",
       "<p>5 rows × 34 columns</p>\n",
       "</div>"
      ],
      "text/plain": [
       "  Patient_ID                    histology groupstage       smokingstatus  \\\n",
       "0         P1      Squamous cell carcinoma   Stage IV  History of smoking   \n",
       "1         P2      Squamous cell carcinoma   Stage IV  History of smoking   \n",
       "2         P3          NSCLC histology NOS   Stage IV  History of smoking   \n",
       "3         P4  Non-squamous cell carcinoma   Stage IV  History of smoking   \n",
       "4         P5  Non-squamous cell carcinoma   Stage IV  History of smoking   \n",
       "\n",
       "  practicetype gender ethnicity   race  age_idx  ecog_value  ...  vital_res_5  \\\n",
       "0    COMMUNITY      M       EUR  White       72         3.0  ...           18   \n",
       "1    COMMUNITY      M       EUR  White       47         3.0  ...           18   \n",
       "2    COMMUNITY      M       NaN  White       61         0.0  ...           18   \n",
       "3    COMMUNITY      M       EUR  White       82         0.0  ...           18   \n",
       "4     ACADEMIC      M       NaN  White       67         3.0  ...           18   \n",
       "\n",
       "   vital_res_6  vital_res_7  vital_res_8  biomarkers_1  biomarkers_2  \\\n",
       "0         2.05           37     0.000000      POSITIVE      POSITIVE   \n",
       "1         2.05           37     0.000000      POSITIVE      POSITIVE   \n",
       "2         2.05           37    60.696495      POSITIVE      POSITIVE   \n",
       "3         2.05           37    24.216821      POSITIVE      POSITIVE   \n",
       "4         2.05           37     0.000000      POSITIVE      POSITIVE   \n",
       "\n",
       "   biomarkers_3  biomarkers_4  biomarkers_5  tmb_status  \n",
       "0      POSITIVE      POSITIVE      POSITIVE         Low  \n",
       "1      POSITIVE      POSITIVE      POSITIVE         Low  \n",
       "2      POSITIVE      POSITIVE      POSITIVE         Low  \n",
       "3      POSITIVE      POSITIVE      POSITIVE         Low  \n",
       "4      POSITIVE      POSITIVE      POSITIVE         Low  \n",
       "\n",
       "[5 rows x 34 columns]"
      ]
     },
     "execution_count": 6,
     "metadata": {},
     "output_type": "execute_result"
    }
   ],
   "source": [
    "file_path =r\"C:\\Users\\Vinanthkumar.HS\\OneDrive - Mu Sigma Business Solutions Pvt. Ltd\\Desktop\\sprint deliverables\\Pavithra-Ramkumar_Problemspace_data.xlsx\"\n",
    "sheet_name = 'Raw Data' \n",
    "\n",
    "df = pd.read_excel(file_path, sheet_name=sheet_name)\n",
    "df.drop(\"Unnamed: 0\", axis=1, inplace=True)\n",
    "df.head()"
   ]
  },
  {
   "cell_type": "markdown",
   "id": "643cc9a1",
   "metadata": {},
   "source": [
    "## Renaming the lab res and vital signs to their respectives"
   ]
  },
  {
   "cell_type": "code",
   "execution_count": 7,
   "id": "0b75f413",
   "metadata": {},
   "outputs": [],
   "source": [
    "df.columns = df.columns.str.capitalize()\n",
    "\n",
    "df = df.rename(columns={\n",
    "    'Vital_res_0': 'DBP', \n",
    "    'Vital_res_1': 'Heart rate', \n",
    "    'Vital_res_2': 'SBP', \n",
    "    'Vital_res_3': 'Pain', \n",
    "    'Vital_res_4': 'oxygen saturation', \n",
    "    'Vital_res_5': 'Respiratory rate', \n",
    "    'Vital_res_6': 'BSA', \n",
    "    'Vital_res_7': 'Body temp', \n",
    "    'Vital_res_8': 'BMI'\n",
    "})\n",
    "df = df.rename(columns = {\n",
    "    'Lab_res_0': 'ALP',\n",
    "    'Lab_res_1': 'Albumin',\n",
    "    'Lab_res_2': 'Bilirubin',\n",
    "    'Lab_res_3': 'Hematocrit',\n",
    "    'Lab_res_4': 'Hemoglobin',\n",
    "    'Lab_res_5': 'Urea Nitrogen',\n",
    "    'Lab_res_6': 'Calcium',\n",
    "    'Lab_res_7': 'Creatinine',\n",
    "    'Lab_res_8': 'Protein'\n",
    "})"
   ]
  },
  {
   "cell_type": "code",
   "execution_count": 8,
   "id": "1514e108",
   "metadata": {
    "scrolled": true
   },
   "outputs": [
    {
     "name": "stdout",
     "output_type": "stream",
     "text": [
      "<class 'pandas.core.frame.DataFrame'>\n",
      "RangeIndex: 5158 entries, 0 to 5157\n",
      "Data columns (total 34 columns):\n",
      " #   Column             Non-Null Count  Dtype  \n",
      "---  ------             --------------  -----  \n",
      " 0   Patient_id         5158 non-null   object \n",
      " 1   Histology          5158 non-null   object \n",
      " 2   Groupstage         5158 non-null   object \n",
      " 3   Smokingstatus      5158 non-null   object \n",
      " 4   Practicetype       5158 non-null   object \n",
      " 5   Gender             5158 non-null   object \n",
      " 6   Ethnicity          4464 non-null   object \n",
      " 7   Race               4799 non-null   object \n",
      " 8   Age_idx            5158 non-null   int64  \n",
      " 9   Ecog_value         2896 non-null   float64\n",
      " 10  ALP                5158 non-null   int64  \n",
      " 11  Albumin            5158 non-null   int64  \n",
      " 12  Bilirubin          5158 non-null   int64  \n",
      " 13  Hematocrit         5158 non-null   int64  \n",
      " 14  Hemoglobin         5158 non-null   int64  \n",
      " 15  Urea Nitrogen      5158 non-null   int64  \n",
      " 16  Calcium            5158 non-null   int64  \n",
      " 17  Creatinine         5158 non-null   int64  \n",
      " 18  Protein            5158 non-null   int64  \n",
      " 19  DBP                5158 non-null   int64  \n",
      " 20  Heart rate         5158 non-null   float64\n",
      " 21  SBP                5158 non-null   int64  \n",
      " 22  Pain               5158 non-null   float64\n",
      " 23  oxygen saturation  5158 non-null   float64\n",
      " 24  Respiratory rate   5158 non-null   int64  \n",
      " 25  BSA                5158 non-null   float64\n",
      " 26  Body temp          5158 non-null   int64  \n",
      " 27  BMI                5158 non-null   float64\n",
      " 28  Biomarkers_1       5158 non-null   object \n",
      " 29  Biomarkers_2       5158 non-null   object \n",
      " 30  Biomarkers_3       5158 non-null   object \n",
      " 31  Biomarkers_4       5158 non-null   object \n",
      " 32  Biomarkers_5       5158 non-null   object \n",
      " 33  Tmb_status         5158 non-null   object \n",
      "dtypes: float64(6), int64(14), object(14)\n",
      "memory usage: 1.3+ MB\n"
     ]
    }
   ],
   "source": [
    "df.info()"
   ]
  },
  {
   "cell_type": "markdown",
   "id": "ea1c1a9a",
   "metadata": {},
   "source": [
    "## Filling missing values - (Ethnicity, Race, Ecog values)"
   ]
  },
  {
   "cell_type": "code",
   "execution_count": 9,
   "id": "37d8a5aa",
   "metadata": {},
   "outputs": [],
   "source": [
    "df['Ethnicity'] = df['Ethnicity'].fillna(method='ffill')\n",
    "most_frequent_race = df.groupby('Tmb_status')['Race'].agg(lambda x: x.mode()[0] if not x.mode().empty else np.nan)\n",
    "\n",
    "# imputing race missing values based on tmb status\n",
    "def impute_race(row):\n",
    "    if pd.isnull(row['Race']):\n",
    "        return most_frequent_race[row['Tmb_status']]\n",
    "    return row['Race']\n",
    "\n",
    "df['Race'] = df.apply(impute_race, axis=1)\n",
    "\n",
    "# fill ecog missing values based on groupstage\n",
    "def fill_ecog_value(row):\n",
    "    groupstage = row['Groupstage']\n",
    "    if pd.isnull(row['Ecog_value']):  \n",
    "        if groupstage == 'Stage IV':\n",
    "            return 3\n",
    "        elif groupstage in ['Stage III', 'Stage IIIA', 'Stage IIIB']:\n",
    "            return 2\n",
    "        elif groupstage in ['Stage II', 'Stage IIA', 'Stage IIB']:\n",
    "            return 2\n",
    "        elif groupstage in ['Stage I', 'Stage IA', 'Stage IB']:\n",
    "            return 1\n",
    "        elif groupstage == 'Occult':\n",
    "            return 0\n",
    "        elif groupstage == 'Group stage is not reported':\n",
    "            return 'Unknown'\n",
    "    return row['Ecog_value']  \n",
    " \n",
    "df['Ecog_value'] = df.apply(fill_ecog_value, axis=1)"
   ]
  },
  {
   "cell_type": "code",
   "execution_count": 10,
   "id": "b5c25af8",
   "metadata": {
    "scrolled": true
   },
   "outputs": [
    {
     "data": {
      "text/plain": [
       "Patient_id           0\n",
       "Histology            0\n",
       "Groupstage           0\n",
       "Smokingstatus        0\n",
       "Practicetype         0\n",
       "Gender               0\n",
       "Ethnicity            0\n",
       "Race                 0\n",
       "Age_idx              0\n",
       "Ecog_value           0\n",
       "ALP                  0\n",
       "Albumin              0\n",
       "Bilirubin            0\n",
       "Hematocrit           0\n",
       "Hemoglobin           0\n",
       "Urea Nitrogen        0\n",
       "Calcium              0\n",
       "Creatinine           0\n",
       "Protein              0\n",
       "DBP                  0\n",
       "Heart rate           0\n",
       "SBP                  0\n",
       "Pain                 0\n",
       "oxygen saturation    0\n",
       "Respiratory rate     0\n",
       "BSA                  0\n",
       "Body temp            0\n",
       "BMI                  0\n",
       "Biomarkers_1         0\n",
       "Biomarkers_2         0\n",
       "Biomarkers_3         0\n",
       "Biomarkers_4         0\n",
       "Biomarkers_5         0\n",
       "Tmb_status           0\n",
       "dtype: int64"
      ]
     },
     "execution_count": 10,
     "metadata": {},
     "output_type": "execute_result"
    }
   ],
   "source": [
    "df.isnull().sum()"
   ]
  },
  {
   "cell_type": "markdown",
   "id": "5ad9f61c",
   "metadata": {},
   "source": [
    "## Cleaning the data by replacing Unknown / Not intrepreted values"
   ]
  },
  {
   "cell_type": "code",
   "execution_count": 11,
   "id": "9f96eaf3",
   "metadata": {},
   "outputs": [],
   "source": [
    "df['Groupstage'].replace({'Group stage is not reported': 'Stage IA', 'Occult': 'Stage IA'}, inplace=True)\n",
    "df['Smokingstatus'].replace({'Unknown/Not documented': 'No history of smoking'}, inplace=True)\n",
    "df['Ecog_value'].replace({'Unknown': 1.0}, inplace=True)\n",
    "df['Biomarkers_1'].replace({'UNKNOWN': 'NEGATIVE', 'PENDING': 'NEGATIVE', 'NO INTERPRETATION': 'NEGATIVE', 'UNSUCCESSFUL': 'NEGATIVE'}, inplace=True)\n",
    "biomarker_columns = ['Biomarkers_2', 'Biomarkers_3', 'Biomarkers_4', 'Biomarkers_5']\n",
    "for column in biomarker_columns:\n",
    "    df[column].replace({'UNK': 'NEGATIVE'}, inplace=True)"
   ]
  },
  {
   "cell_type": "markdown",
   "id": "45b69096",
   "metadata": {},
   "source": [
    "## Data distribution % for all Categorical Columns"
   ]
  },
  {
   "cell_type": "code",
   "execution_count": 12,
   "id": "3bbc980c",
   "metadata": {
    "scrolled": true
   },
   "outputs": [
    {
     "name": "stdout",
     "output_type": "stream",
     "text": [
      "Balance percentage for Histology:\n",
      "Non-squamous cell carcinoma    75.184180\n",
      "Squamous cell carcinoma        20.259791\n",
      "NSCLC histology NOS             4.556029\n",
      "Name: Histology, dtype: float64\n",
      "\n",
      "\n",
      "Balance percentage for Groupstage:\n",
      "Stage IV      56.863125\n",
      "Stage IIIA    12.795657\n",
      "Stage IIIB     7.599845\n",
      "Stage IA       7.328422\n",
      "Stage IB       4.245832\n",
      "Stage IIA      3.722373\n",
      "Stage IIB      3.586661\n",
      "Stage III      1.783637\n",
      "Stage I        1.473439\n",
      "Stage II       0.601008\n",
      "Name: Groupstage, dtype: float64\n",
      "\n",
      "\n",
      "Balance percentage for Practicetype:\n",
      "COMMUNITY    92.031795\n",
      "ACADEMIC      7.968205\n",
      "Name: Practicetype, dtype: float64\n",
      "\n",
      "\n",
      "Balance percentage for Race:\n",
      "White                        82.590151\n",
      "Other Race                    8.840636\n",
      "Black or African American     5.893757\n",
      "Asian                         2.559131\n",
      "Hispanic or Latino            0.116324\n",
      "Name: Race, dtype: float64\n",
      "\n",
      "\n",
      "Balance percentage for Smokingstatus:\n",
      "History of smoking       81.271811\n",
      "No history of smoking    18.728189\n",
      "Name: Smokingstatus, dtype: float64\n",
      "\n",
      "\n",
      "Balance percentage for Biomarkers_1:\n",
      "NEGATIVE    63.008918\n",
      "POSITIVE    36.991082\n",
      "Name: Biomarkers_1, dtype: float64\n",
      "\n",
      "\n",
      "Balance percentage for Biomarkers_2:\n",
      "NEGATIVE    66.459868\n",
      "POSITIVE    33.540132\n",
      "Name: Biomarkers_2, dtype: float64\n",
      "\n",
      "\n",
      "Balance percentage for Biomarkers_3:\n",
      "NEGATIVE    64.889492\n",
      "POSITIVE    35.110508\n",
      "Name: Biomarkers_3, dtype: float64\n",
      "\n",
      "\n",
      "Balance percentage for Biomarkers_4:\n",
      "NEGATIVE    63.105855\n",
      "POSITIVE    36.894145\n",
      "Name: Biomarkers_4, dtype: float64\n",
      "\n",
      "\n",
      "Balance percentage for Biomarkers_5:\n",
      "NEGATIVE    64.715006\n",
      "POSITIVE    35.284994\n",
      "Name: Biomarkers_5, dtype: float64\n",
      "\n",
      "\n",
      "Balance percentage for Tmb_status:\n",
      "Low     88.115549\n",
      "High    11.884451\n",
      "Name: Tmb_status, dtype: float64\n",
      "\n",
      "\n"
     ]
    }
   ],
   "source": [
    "categorical_columns = ['Histology', 'Groupstage', 'Practicetype', 'Race', 'Smokingstatus','Biomarkers_1',\n",
    "       'Biomarkers_2', 'Biomarkers_3', 'Biomarkers_4', 'Biomarkers_5',\n",
    "       'Tmb_status']\n",
    " \n",
    "for column in categorical_columns:\n",
    "    print(f\"Balance percentage for {column}:\")\n",
    "    balance_percentage = df[column].value_counts(normalize=True) * 100 \n",
    "    print(balance_percentage)\n",
    "    print(\"\\n\")"
   ]
  },
  {
   "cell_type": "markdown",
   "id": "b3b2f7a2",
   "metadata": {},
   "source": [
    "## Encoding the Categorical columns\n",
    "We can only apply SMOTE for numerical data.\n",
    "\n",
    "\n",
    "**Encoding** is the process of converting categorical data (like text labels) into a numerical format so that it can be used effectively in machine learning models. Machine learning algorithms typically work better with numerical data because they rely on mathematical computations, and categorical data (like \"Yes\"/\"No\" or \"Red\"/\"Blue\"/\"Green\") needs to be transformed to be interpreted correctly by these models.\n",
    "\n",
    "**OneHotEncoding** for **Histology** as it's unordered category \\\n",
    "**OrdinalEncoding** for **GroupStage** as it's in a sequence. \\\n",
    "**LabelEncoding** for remaining others (simple binary categories only bruh)"
   ]
  },
  {
   "cell_type": "code",
   "execution_count": 13,
   "id": "3789dda3",
   "metadata": {},
   "outputs": [],
   "source": [
    "df_encoded = df.copy()\n",
    "\n",
    "label_encoder = LabelEncoder()\n",
    "one_hot_encoder = OneHotEncoder(sparse_output=False) \n",
    "\n",
    "# 1. Binary Encoding for Binary Columns\n",
    "df_encoded['Smokingstatus'] = label_encoder.fit_transform(df_encoded['Smokingstatus'])\n",
    "df_encoded['Tmb_status'] = label_encoder.fit_transform(df_encoded['Tmb_status'])\n",
    "df_encoded['Practicetype'] = label_encoder.fit_transform(df_encoded['Practicetype'])\n",
    "df_encoded['Gender'] = label_encoder.fit_transform(df_encoded['Gender'])\n",
    "\n",
    "# 2. Ordinal Encoding for Groupstage\n",
    "groupstage_order = [\n",
    "    \"Stage I\", \"Stage IA\", \"Stage IB\", \"Stage II\", \"Stage IIA\", \"Stage IIB\",\n",
    "    \"Stage III\", \"Stage IIIA\", \"Stage IIIB\", \"Stage IV\"\n",
    "]\n",
    "ordinal_encoder = OrdinalEncoder(categories=[groupstage_order])\n",
    "df_encoded['Groupstage'] = ordinal_encoder.fit_transform(df_encoded[['Groupstage']])\n",
    "\n",
    "# 3. One-Hot Encoding for Multi-Category Column\n",
    "encoded_histology = pd.DataFrame(one_hot_encoder.fit_transform(df_encoded[['Histology']]),\n",
    "                                 columns=one_hot_encoder.get_feature_names_out(['Histology']))\n",
    "\n",
    "df_encoded = pd.concat([df_encoded.drop(columns=['Histology']), encoded_histology], axis=1)\n",
    "\n",
    "# 4. Label Encoding for Biomarkers Columns\n",
    "biomarker_columns = ['Biomarkers_1', 'Biomarkers_2', 'Biomarkers_3', 'Biomarkers_4', 'Biomarkers_5']\n",
    "for col in biomarker_columns:\n",
    "    df_encoded[col] = label_encoder.fit_transform(df_encoded[col])"
   ]
  },
  {
   "cell_type": "markdown",
   "id": "1b3aafbd",
   "metadata": {},
   "source": [
    "### Dropping columns which are unnecessary"
   ]
  },
  {
   "cell_type": "code",
   "execution_count": 14,
   "id": "70bda6d3",
   "metadata": {},
   "outputs": [],
   "source": [
    "df_encoded.drop('Patient_id', axis=1, inplace=True)\n",
    "df_encoded.drop('Ethnicity', axis=1, inplace=True)\n",
    "df_encoded.drop('Race', axis=1, inplace=True)\n",
    "df_encoded.drop('DBP', axis=1, inplace=True)\n",
    "df_encoded.drop('SBP', axis=1, inplace=True)\n",
    "df_encoded.drop('Heart rate', axis=1, inplace=True)\n",
    "df_encoded.drop('Pain', axis=1, inplace=True)\n",
    "df_encoded.drop('oxygen saturation', axis=1, inplace=True)\n",
    "df_encoded.drop('Respiratory rate', axis=1, inplace=True)\n",
    "df_encoded.drop('BSA', axis=1, inplace=True)\n",
    "df_encoded.drop('Body temp', axis=1, inplace=True)\n",
    "df_encoded.drop('BMI', axis=1, inplace=True)"
   ]
  },
  {
   "cell_type": "code",
   "execution_count": 15,
   "id": "f28343c5",
   "metadata": {},
   "outputs": [
    {
     "data": {
      "text/plain": [
       "Index(['Groupstage', 'Smokingstatus', 'Practicetype', 'Gender', 'Age_idx',\n",
       "       'Ecog_value', 'ALP', 'Albumin', 'Bilirubin', 'Hematocrit', 'Hemoglobin',\n",
       "       'Urea Nitrogen', 'Calcium', 'Creatinine', 'Protein', 'Biomarkers_1',\n",
       "       'Biomarkers_2', 'Biomarkers_3', 'Biomarkers_4', 'Biomarkers_5',\n",
       "       'Tmb_status', 'Histology_NSCLC histology NOS',\n",
       "       'Histology_Non-squamous cell carcinoma',\n",
       "       'Histology_Squamous cell carcinoma'],\n",
       "      dtype='object')"
      ]
     },
     "execution_count": 15,
     "metadata": {},
     "output_type": "execute_result"
    }
   ],
   "source": [
    "df_encoded.columns"
   ]
  },
  {
   "cell_type": "code",
   "execution_count": 16,
   "id": "32288737",
   "metadata": {},
   "outputs": [
    {
     "data": {
      "text/html": [
       "<div>\n",
       "<style scoped>\n",
       "    .dataframe tbody tr th:only-of-type {\n",
       "        vertical-align: middle;\n",
       "    }\n",
       "\n",
       "    .dataframe tbody tr th {\n",
       "        vertical-align: top;\n",
       "    }\n",
       "\n",
       "    .dataframe thead th {\n",
       "        text-align: right;\n",
       "    }\n",
       "</style>\n",
       "<table border=\"1\" class=\"dataframe\">\n",
       "  <thead>\n",
       "    <tr style=\"text-align: right;\">\n",
       "      <th></th>\n",
       "      <th>Groupstage</th>\n",
       "      <th>Smokingstatus</th>\n",
       "      <th>Practicetype</th>\n",
       "      <th>Gender</th>\n",
       "      <th>Age_idx</th>\n",
       "      <th>Ecog_value</th>\n",
       "      <th>ALP</th>\n",
       "      <th>Albumin</th>\n",
       "      <th>Bilirubin</th>\n",
       "      <th>Hematocrit</th>\n",
       "      <th>...</th>\n",
       "      <th>Protein</th>\n",
       "      <th>Biomarkers_1</th>\n",
       "      <th>Biomarkers_2</th>\n",
       "      <th>Biomarkers_3</th>\n",
       "      <th>Biomarkers_4</th>\n",
       "      <th>Biomarkers_5</th>\n",
       "      <th>Tmb_status</th>\n",
       "      <th>Histology_NSCLC histology NOS</th>\n",
       "      <th>Histology_Non-squamous cell carcinoma</th>\n",
       "      <th>Histology_Squamous cell carcinoma</th>\n",
       "    </tr>\n",
       "  </thead>\n",
       "  <tbody>\n",
       "    <tr>\n",
       "      <th>0</th>\n",
       "      <td>9.0</td>\n",
       "      <td>0</td>\n",
       "      <td>1</td>\n",
       "      <td>1</td>\n",
       "      <td>72</td>\n",
       "      <td>3.0</td>\n",
       "      <td>3</td>\n",
       "      <td>3</td>\n",
       "      <td>3</td>\n",
       "      <td>3</td>\n",
       "      <td>...</td>\n",
       "      <td>0</td>\n",
       "      <td>1</td>\n",
       "      <td>1</td>\n",
       "      <td>1</td>\n",
       "      <td>1</td>\n",
       "      <td>1</td>\n",
       "      <td>1</td>\n",
       "      <td>0.0</td>\n",
       "      <td>0.0</td>\n",
       "      <td>1.0</td>\n",
       "    </tr>\n",
       "    <tr>\n",
       "      <th>1</th>\n",
       "      <td>9.0</td>\n",
       "      <td>0</td>\n",
       "      <td>1</td>\n",
       "      <td>1</td>\n",
       "      <td>47</td>\n",
       "      <td>3.0</td>\n",
       "      <td>3</td>\n",
       "      <td>3</td>\n",
       "      <td>3</td>\n",
       "      <td>3</td>\n",
       "      <td>...</td>\n",
       "      <td>0</td>\n",
       "      <td>1</td>\n",
       "      <td>1</td>\n",
       "      <td>1</td>\n",
       "      <td>1</td>\n",
       "      <td>1</td>\n",
       "      <td>1</td>\n",
       "      <td>0.0</td>\n",
       "      <td>0.0</td>\n",
       "      <td>1.0</td>\n",
       "    </tr>\n",
       "    <tr>\n",
       "      <th>2</th>\n",
       "      <td>9.0</td>\n",
       "      <td>0</td>\n",
       "      <td>1</td>\n",
       "      <td>1</td>\n",
       "      <td>61</td>\n",
       "      <td>0.0</td>\n",
       "      <td>3</td>\n",
       "      <td>3</td>\n",
       "      <td>3</td>\n",
       "      <td>3</td>\n",
       "      <td>...</td>\n",
       "      <td>0</td>\n",
       "      <td>1</td>\n",
       "      <td>1</td>\n",
       "      <td>1</td>\n",
       "      <td>1</td>\n",
       "      <td>1</td>\n",
       "      <td>1</td>\n",
       "      <td>1.0</td>\n",
       "      <td>0.0</td>\n",
       "      <td>0.0</td>\n",
       "    </tr>\n",
       "    <tr>\n",
       "      <th>3</th>\n",
       "      <td>9.0</td>\n",
       "      <td>0</td>\n",
       "      <td>1</td>\n",
       "      <td>1</td>\n",
       "      <td>82</td>\n",
       "      <td>0.0</td>\n",
       "      <td>3</td>\n",
       "      <td>3</td>\n",
       "      <td>3</td>\n",
       "      <td>3</td>\n",
       "      <td>...</td>\n",
       "      <td>0</td>\n",
       "      <td>1</td>\n",
       "      <td>1</td>\n",
       "      <td>1</td>\n",
       "      <td>1</td>\n",
       "      <td>1</td>\n",
       "      <td>1</td>\n",
       "      <td>0.0</td>\n",
       "      <td>1.0</td>\n",
       "      <td>0.0</td>\n",
       "    </tr>\n",
       "    <tr>\n",
       "      <th>4</th>\n",
       "      <td>9.0</td>\n",
       "      <td>0</td>\n",
       "      <td>0</td>\n",
       "      <td>1</td>\n",
       "      <td>67</td>\n",
       "      <td>3.0</td>\n",
       "      <td>3</td>\n",
       "      <td>3</td>\n",
       "      <td>3</td>\n",
       "      <td>3</td>\n",
       "      <td>...</td>\n",
       "      <td>0</td>\n",
       "      <td>1</td>\n",
       "      <td>1</td>\n",
       "      <td>1</td>\n",
       "      <td>1</td>\n",
       "      <td>1</td>\n",
       "      <td>1</td>\n",
       "      <td>0.0</td>\n",
       "      <td>1.0</td>\n",
       "      <td>0.0</td>\n",
       "    </tr>\n",
       "  </tbody>\n",
       "</table>\n",
       "<p>5 rows × 24 columns</p>\n",
       "</div>"
      ],
      "text/plain": [
       "   Groupstage  Smokingstatus  Practicetype  Gender  Age_idx  Ecog_value  ALP  \\\n",
       "0         9.0              0             1       1       72         3.0    3   \n",
       "1         9.0              0             1       1       47         3.0    3   \n",
       "2         9.0              0             1       1       61         0.0    3   \n",
       "3         9.0              0             1       1       82         0.0    3   \n",
       "4         9.0              0             0       1       67         3.0    3   \n",
       "\n",
       "   Albumin  Bilirubin  Hematocrit  ...  Protein  Biomarkers_1  Biomarkers_2  \\\n",
       "0        3          3           3  ...        0             1             1   \n",
       "1        3          3           3  ...        0             1             1   \n",
       "2        3          3           3  ...        0             1             1   \n",
       "3        3          3           3  ...        0             1             1   \n",
       "4        3          3           3  ...        0             1             1   \n",
       "\n",
       "   Biomarkers_3  Biomarkers_4  Biomarkers_5  Tmb_status  \\\n",
       "0             1             1             1           1   \n",
       "1             1             1             1           1   \n",
       "2             1             1             1           1   \n",
       "3             1             1             1           1   \n",
       "4             1             1             1           1   \n",
       "\n",
       "   Histology_NSCLC histology NOS  Histology_Non-squamous cell carcinoma  \\\n",
       "0                            0.0                                    0.0   \n",
       "1                            0.0                                    0.0   \n",
       "2                            1.0                                    0.0   \n",
       "3                            0.0                                    1.0   \n",
       "4                            0.0                                    1.0   \n",
       "\n",
       "   Histology_Squamous cell carcinoma  \n",
       "0                                1.0  \n",
       "1                                1.0  \n",
       "2                                0.0  \n",
       "3                                0.0  \n",
       "4                                0.0  \n",
       "\n",
       "[5 rows x 24 columns]"
      ]
     },
     "execution_count": 16,
     "metadata": {},
     "output_type": "execute_result"
    }
   ],
   "source": [
    "df_encoded.head()"
   ]
  },
  {
   "cell_type": "markdown",
   "id": "f572aee1",
   "metadata": {},
   "source": [
    "### Data distribution % after Encoding categorical columns"
   ]
  },
  {
   "cell_type": "code",
   "execution_count": 17,
   "id": "c89d143e",
   "metadata": {
    "scrolled": true
   },
   "outputs": [
    {
     "name": "stdout",
     "output_type": "stream",
     "text": [
      "Balance percentage for Histology_NSCLC histology NOS:\n",
      "0.0    95.443971\n",
      "1.0     4.556029\n",
      "Name: Histology_NSCLC histology NOS, dtype: float64\n",
      "\n",
      "\n",
      "Balance percentage for Histology_Non-squamous cell carcinoma:\n",
      "1.0    75.18418\n",
      "0.0    24.81582\n",
      "Name: Histology_Non-squamous cell carcinoma, dtype: float64\n",
      "\n",
      "\n",
      "Balance percentage for Histology_Squamous cell carcinoma:\n",
      "0.0    79.740209\n",
      "1.0    20.259791\n",
      "Name: Histology_Squamous cell carcinoma, dtype: float64\n",
      "\n",
      "\n",
      "Balance percentage for Groupstage:\n",
      "9.0    56.863125\n",
      "7.0    12.795657\n",
      "8.0     7.599845\n",
      "1.0     7.328422\n",
      "2.0     4.245832\n",
      "4.0     3.722373\n",
      "5.0     3.586661\n",
      "6.0     1.783637\n",
      "0.0     1.473439\n",
      "3.0     0.601008\n",
      "Name: Groupstage, dtype: float64\n",
      "\n",
      "\n",
      "Balance percentage for Smokingstatus:\n",
      "0    81.271811\n",
      "1    18.728189\n",
      "Name: Smokingstatus, dtype: float64\n",
      "\n",
      "\n",
      "Balance percentage for Biomarkers_1:\n",
      "0    63.008918\n",
      "1    36.991082\n",
      "Name: Biomarkers_1, dtype: float64\n",
      "\n",
      "\n",
      "Balance percentage for Biomarkers_2:\n",
      "0    66.459868\n",
      "1    33.540132\n",
      "Name: Biomarkers_2, dtype: float64\n",
      "\n",
      "\n",
      "Balance percentage for Biomarkers_3:\n",
      "0    64.889492\n",
      "1    35.110508\n",
      "Name: Biomarkers_3, dtype: float64\n",
      "\n",
      "\n",
      "Balance percentage for Biomarkers_4:\n",
      "0    63.105855\n",
      "1    36.894145\n",
      "Name: Biomarkers_4, dtype: float64\n",
      "\n",
      "\n",
      "Balance percentage for Biomarkers_5:\n",
      "0    64.715006\n",
      "1    35.284994\n",
      "Name: Biomarkers_5, dtype: float64\n",
      "\n",
      "\n",
      "Balance percentage for Gender:\n",
      "1    65.296627\n",
      "0    34.703373\n",
      "Name: Gender, dtype: float64\n",
      "\n",
      "\n",
      "Balance percentage for Ecog_value:\n",
      "3.0    53.063203\n",
      "1.0    20.279178\n",
      "2.0    14.501745\n",
      "0.0    12.155874\n",
      "Name: Ecog_value, dtype: float64\n",
      "\n",
      "\n",
      "Balance percentage for Tmb_status:\n",
      "1    88.115549\n",
      "0    11.884451\n",
      "Name: Tmb_status, dtype: float64\n",
      "\n",
      "\n"
     ]
    }
   ],
   "source": [
    "categorical_columns = ['Histology_NSCLC histology NOS', 'Histology_Non-squamous cell carcinoma',\n",
    "                       'Histology_Squamous cell carcinoma', 'Groupstage', 'Smokingstatus','Biomarkers_1',\n",
    "       'Biomarkers_2', 'Biomarkers_3', 'Biomarkers_4', 'Biomarkers_5','Gender', 'Ecog_value', 'Tmb_status']\n",
    " \n",
    "for column in categorical_columns:\n",
    "    print(f\"Balance percentage for {column}:\")\n",
    "    balance_percentage = df_encoded[column].value_counts(normalize=True) * 100 \n",
    "    print(balance_percentage)\n",
    "    print(\"\\n\")"
   ]
  },
  {
   "cell_type": "markdown",
   "id": "4ca25888",
   "metadata": {},
   "source": [
    "## SMOTE - TOMEK \n",
    "SMOTE (**Synthetic Minority Over-sampling Technique**) and **Tomek** Links—to address class imbalance in datasets effectively. \\\n",
    "For each instance 𝑥 in the minority class, select 𝑘 nearest neighbors from the same class. \\\n",
    "For each neighbor $x_{\\text{neighbor}}$, create synthetic points along the line between x and $x_{\\text{neighbor}}$. \\\n",
    "<br>\n",
    "**Formula:**\n",
    "$x_{\\text{new}} = x + \\delta \\times (x_{\\text{neighbor}} - x)$\n",
    "\n",
    "where $\\delta$ is a random number between 0 and 1.\n",
    "\n",
    "**SMOTE TOMEK** method first applies SMOTE to oversample the minority class by generating synthetic samples, then uses Tomek Links to clean up overlapping samples between classes, thus helping in balancing the dataset while potentially improving class separation.\n",
    "\n",
    "A Tomek link exists if two instances (𝑥,𝑦) from different classes are each other’s nearest neighbor. Such pairs are likely on the class boundary and may confuse the model. Removing Tomek links cleans up overlapping samples.\n",
    "<br>\n",
    "If the nearest neighbor of minority class point 𝑥 is a majority class point 𝑦, and 𝑦’s nearest neighbor is 𝑥, they form a Tomek link."
   ]
  },
  {
   "cell_type": "code",
   "execution_count": 18,
   "id": "f8053da5",
   "metadata": {},
   "outputs": [
    {
     "name": "stdout",
     "output_type": "stream",
     "text": [
      "Balance after SMOTE-Tomek:\n",
      "1    3635\n",
      "0    3635\n",
      "Name: Tmb_status, dtype: int64\n",
      "New shape of training data: (7270, 23) (7270,)\n"
     ]
    }
   ],
   "source": [
    "X = df_encoded.drop(columns=['Tmb_status']) \n",
    "y = df_encoded['Tmb_status']\n",
    "\n",
    "X_train, X_test, y_train, y_test = train_test_split(X, y, test_size=0.2, random_state=42)\n",
    "\n",
    "smote_tomek = SMOTETomek(random_state=42)\n",
    "X_train_resampled, y_train_resampled = smote_tomek.fit_resample(X_train, y_train)\n",
    "\n",
    "print(\"Balance after SMOTE-Tomek:\")\n",
    "print(y_train_resampled.value_counts())\n",
    "print(\"New shape of training data:\", X_train_resampled.shape, y_train_resampled.shape)"
   ]
  },
  {
   "cell_type": "markdown",
   "id": "b6cd4aa9",
   "metadata": {},
   "source": [
    "# Feature Selection \n",
    "Feature Selection technique takes in consideration subset of those features which are important or to eliminate those features which do not help classify our target."
   ]
  },
  {
   "cell_type": "markdown",
   "id": "17ef7199",
   "metadata": {},
   "source": [
    "## Forward Selection\n",
    "Begins with no features and adds them one by one, based on their contribution to improving the model's performance."
   ]
  },
  {
   "cell_type": "code",
   "execution_count": 19,
   "id": "938525ca",
   "metadata": {},
   "outputs": [
    {
     "name": "stdout",
     "output_type": "stream",
     "text": [
      "Selected features: ['Groupstage', 'Practicetype', 'Gender', 'Age_idx', 'Albumin', 'Hematocrit', 'Hemoglobin', 'Urea Nitrogen', 'Biomarkers_1', 'Biomarkers_2', 'Biomarkers_3', 'Biomarkers_4', 'Biomarkers_5']\n"
     ]
    }
   ],
   "source": [
    "clf = RandomForestClassifier(random_state=42)\n",
    "\n",
    "sfs = SFS(clf, \n",
    "          k_features='best',  # 'best' for automatic selection\n",
    "          forward=True, \n",
    "          floating=False, \n",
    "          scoring='accuracy', \n",
    "          cv=5)\n",
    "\n",
    "sfs = sfs.fit(X_train_resampled, y_train_resampled)\n",
    "\n",
    "selected_features = list(sfs.k_feature_names_)\n",
    "print(\"Selected features:\", selected_features)\n",
    "\n",
    "X_train_selected_forward = sfs.transform(X_train_resampled)\n",
    "X_test_selected_forward = sfs.transform(X_test)"
   ]
  },
  {
   "cell_type": "markdown",
   "id": "5e7e7262",
   "metadata": {},
   "source": [
    "## Backward Elimination\n",
    "Starts with all features and removes them one by one, based on the least contribution."
   ]
  },
  {
   "cell_type": "code",
   "execution_count": 40,
   "id": "039325c0",
   "metadata": {},
   "outputs": [
    {
     "name": "stdout",
     "output_type": "stream",
     "text": [
      "Selected Features (Backward Elimination): Index(['Groupstage', 'Practicetype', 'Gender', 'Age_idx', 'Albumin',\n",
      "       'Bilirubin', 'Hemoglobin', 'Urea Nitrogen', 'Calcium', 'Biomarkers_1',\n",
      "       'Biomarkers_3', 'Biomarkers_4', 'Biomarkers_5'],\n",
      "      dtype='object')\n"
     ]
    }
   ],
   "source": [
    "sfs_backward = SFS(clf,\n",
    "                   k_features='best',  \n",
    "                   forward=False,  \n",
    "                   floating=False, \n",
    "                   scoring='accuracy', \n",
    "                   cv=5)  \n",
    "\n",
    "sfs_backward = sfs_backward.fit(X_train_resampled, y_train_resampled)\n",
    "\n",
    "selected_features_backward = X_train_resampled.columns[list(sfs_backward.k_feature_idx_)]\n",
    "print(\"Selected Features (Backward Elimination):\", selected_features_backward)\n",
    "\n",
    "X_train_selected_backward = sfs_backward.transform(X_train_resampled)\n",
    "X_test_selected_backward = sfs_backward.transform(X_test)"
   ]
  },
  {
   "cell_type": "code",
   "execution_count": 41,
   "id": "e3fefa6c",
   "metadata": {},
   "outputs": [
    {
     "data": {
      "text/plain": [
       "Index(['Groupstage', 'Smokingstatus', 'Practicetype', 'Gender', 'Age_idx',\n",
       "       'Ecog_value', 'ALP', 'Albumin', 'Bilirubin', 'Hematocrit', 'Hemoglobin',\n",
       "       'Urea Nitrogen', 'Calcium', 'Creatinine', 'Protein', 'Biomarkers_1',\n",
       "       'Biomarkers_2', 'Biomarkers_3', 'Biomarkers_4', 'Biomarkers_5',\n",
       "       'Tmb_status', 'Histology_NSCLC histology NOS',\n",
       "       'Histology_Non-squamous cell carcinoma',\n",
       "       'Histology_Squamous cell carcinoma'],\n",
       "      dtype='object')"
      ]
     },
     "execution_count": 41,
     "metadata": {},
     "output_type": "execute_result"
    }
   ],
   "source": [
    "df_encoded.columns"
   ]
  },
  {
   "cell_type": "markdown",
   "id": "81af31ab",
   "metadata": {},
   "source": [
    "## CatBoost model training\n",
    "\n",
    "**Standard gradient boosting** trains a series of weak learners (typically decision trees), where each tree attempts to correct the errors of the previous trees. The errors are reduced by gradually improving the model’s performance through weighted adjustments.\n",
    "\n",
    "**CatBoost** is specifically designed to handle categorical data efficiently. It can directly manage categorical columns, learning optimal splits based on their distributions. With balanced and encoded data, CatBoost might still provide a slight performance edge for features that originally held strong categorical significance. It’s also optimized for handling complex interactions, which can help if you have intricate patterns within your data. CatBoost uses a unique technique called ordered boosting, which reduces overfitting and results in better generalization on new data."
   ]
  },
  {
   "cell_type": "code",
   "execution_count": 42,
   "id": "489343dc",
   "metadata": {},
   "outputs": [
    {
     "name": "stdout",
     "output_type": "stream",
     "text": [
      "*********** Forward Selection ***********\n",
      "\n",
      "CatBoost Model Accuracy with Selected Features: 0.935077519379845\n",
      "\n",
      "Classification Report:\n",
      "               precision    recall  f1-score   support\n",
      "\n",
      "           0       0.66      0.94      0.77       122\n",
      "           1       0.99      0.93      0.96       910\n",
      "\n",
      "    accuracy                           0.94      1032\n",
      "   macro avg       0.82      0.94      0.87      1032\n",
      "weighted avg       0.95      0.94      0.94      1032\n",
      "\n"
     ]
    }
   ],
   "source": [
    "catboost_model = CatBoostClassifier(random_seed=42, verbose=0) \n",
    "catboost_model.fit(X_train_selected_forward, y_train_resampled)\n",
    "\n",
    "y_pred = catboost_model.predict(X_test_selected_forward)\n",
    "accuracy = accuracy_score(y_test, y_pred)\n",
    "\n",
    "print(\"*********** Forward Selection ***********\\n\")\n",
    "print(\"CatBoost Model Accuracy with Selected Features:\", accuracy)\n",
    "print(\"\\nClassification Report:\\n\", classification_report(y_test, y_pred))"
   ]
  },
  {
   "cell_type": "code",
   "execution_count": 43,
   "id": "e36c026e",
   "metadata": {},
   "outputs": [
    {
     "data": {
      "image/png": "[encoded data removed]",
      "text/plain": [
       "<Figure size 500x300 with 2 Axes>"
      ]
     },
     "metadata": {},
     "output_type": "display_data"
    }
   ],
   "source": [
    "conf_matrix = confusion_matrix(y_test, y_pred)\n",
    "\n",
    "plt.figure(figsize=(5, 3))\n",
    "sns.heatmap(conf_matrix, annot=True, fmt=\"d\", cmap=\"Blues\",\n",
    "            xticklabels=[\"Low TMB\", \"High TMB\"], yticklabels=[\"Low TMB\", \"High TMB\"])\n",
    "plt.xlabel(\"Predicted Label\")\n",
    "plt.ylabel(\"True Label\")\n",
    "plt.title(\"Confusion Matrix\")\n",
    "plt.show()"
   ]
  },
  {
   "cell_type": "code",
   "execution_count": 44,
   "id": "63e775d8",
   "metadata": {},
   "outputs": [
    {
     "name": "stdout",
     "output_type": "stream",
     "text": [
      "*********** Backward Elimination ***********\n",
      "\n",
      "CatBoost Model Accuracy with Selected Features: 0.9341085271317829\n",
      "\n",
      "Classification Report:\n",
      "               precision    recall  f1-score   support\n",
      "\n",
      "           0       0.66      0.93      0.77       122\n",
      "           1       0.99      0.93      0.96       910\n",
      "\n",
      "    accuracy                           0.93      1032\n",
      "   macro avg       0.82      0.93      0.87      1032\n",
      "weighted avg       0.95      0.93      0.94      1032\n",
      "\n"
     ]
    }
   ],
   "source": [
    "catboost_model_backward = CatBoostClassifier(random_seed=42, verbose=0)\n",
    "catboost_model_backward.fit(X_train_selected_backward, y_train_resampled)\n",
    "\n",
    "y_pred_backward = catboost_model_backward.predict(X_test_selected_backward)\n",
    "accuracy = accuracy_score(y_test, y_pred_backward)\n",
    "\n",
    "print(\"*********** Backward Elimination ***********\\n\")\n",
    "print(\"CatBoost Model Accuracy with Selected Features:\", accuracy)\n",
    "print(\"\\nClassification Report:\\n\", classification_report(y_test, y_pred_backward))"
   ]
  },
  {
   "cell_type": "markdown",
   "id": "26a9a586",
   "metadata": {},
   "source": [
    "## Evaluation Metrics\n",
    "\n",
    "- **Precision:** Measures how accurate positive predictions are. Out of all predictions for a class (e.g., high TMB), how many are actually correct?  \n",
    "- **Recall:** Measures how well the model finds all positive instances of a class. Out of all actual instances of a class, how many did the model correctly identify? \n",
    "- **F1 Score:** A balance between precision and recall, useful when classes are imbalanced. The F1 score gives an overall measure of a model’s accuracy for each class, considering both precision and recall. \n",
    "- **Support:** The number of actual instances of each class in the test set. ( Ex. Support of 122 for class 0 means there were 122 true low TMB cases in the data.) \n",
    "- **Accuracy:** The overall correctness of the model, representing how many total predictions were correct. Out of all predictions made, what percentage were right? \n",
    "- **Macro Avg (Macro Average):** An average of precision, recall, and F1 scores for each class, treating all classes equally. (Example: The macro average F1 score of 0.87 means that, on average, each class has an F1 score of 87%.) \n",
    "- **Weighted Avg (Weighted Average):** An average that takes into account the number of instances (support) for each class. (Example: The weighted average F1 score of 0.94 reflects the overall balance, with class 1 (high TMB) contributing more due to its larger number of instances (support).)"
   ]
  },
  {
   "cell_type": "markdown",
   "id": "94a1c096",
   "metadata": {},
   "source": [
    "## Hyperparameter Tuning\n",
    "Hyperparameter tuning involves selecting the best set of parameters for a model to improve its performance.\n",
    "- **Learning Rate:** Controls the step size at each iteration while moving toward a minimum of the loss function. Smaller values typically improve performance but require more trees.\n",
    "- **Depth:** Maximum depth of the trees. Higher depths allow capturing more complex patterns, but too high may cause overfitting.\n",
    "- **Iterations:** Number of boosting iterations. Higher values improve learning but may lead to overfitting if too large.\n",
    "- **L2 Leaf Regularization:** Adds a penalty to leaf values to prevent overfitting. Higher values indicate stronger regularization.\n",
    "- **Border Count:** Number of splits to consider for numerical features. Increasing can improve accuracy but increases computation.\n",
    "- **Bagging Temperature:** Controls the sampling ratio for each iteration. Higher values introduce more randomness, which can help prevent overfitting."
   ]
  },
  {
   "cell_type": "code",
   "execution_count": 45,
   "id": "b340b35f",
   "metadata": {},
   "outputs": [
    {
     "name": "stdout",
     "output_type": "stream",
     "text": [
      "Best Parameters: {'bagging_temperature': 0.0, 'depth': 8, 'iterations': 300, 'l2_leaf_reg': 1, 'learning_rate': 0.1}\n",
      "Best Accuracy Score: 0.9624484181568087\n"
     ]
    }
   ],
   "source": [
    "param_grid = {\n",
    "    'depth': [4, 6, 8], \n",
    "    'learning_rate': [0.01, 0.05, 0.1],\n",
    "    'iterations': [100, 200, 300],\n",
    "    'l2_leaf_reg': [1, 3, 5],\n",
    "    'bagging_temperature': [0.0, 0.5, 1.0]\n",
    "}\n",
    "\n",
    "catboost_model = CatBoostClassifier(random_seed=42, verbose=0)\n",
    "\n",
    "grid_search = GridSearchCV(estimator=catboost_model, param_grid=param_grid, cv=5, scoring='accuracy', n_jobs=-1)\n",
    "grid_search.fit(X_train_selected_forward, y_train_resampled)\n",
    "\n",
    "print(\"Best Parameters:\", grid_search.best_params_)\n",
    "print(\"Best Accuracy Score:\", grid_search.best_score_)"
   ]
  },
  {
   "cell_type": "code",
   "execution_count": 46,
   "id": "99b5eaa5",
   "metadata": {},
   "outputs": [
    {
     "name": "stdout",
     "output_type": "stream",
     "text": [
      "Best Model Accuracy: 0.9341085271317829\n",
      "\n",
      "Classification Report:\n",
      "               precision    recall  f1-score   support\n",
      "\n",
      "           0       0.66      0.92      0.77       122\n",
      "           1       0.99      0.94      0.96       910\n",
      "\n",
      "    accuracy                           0.93      1032\n",
      "   macro avg       0.82      0.93      0.86      1032\n",
      "weighted avg       0.95      0.93      0.94      1032\n",
      "\n"
     ]
    }
   ],
   "source": [
    "best_catboost_model = grid_search.best_estimator_\n",
    "\n",
    "best_catboost_model.fit(X_train_selected_forward, y_train_resampled)\n",
    "\n",
    "y_pred_best = best_catboost_model.predict(X_test_selected_forward)\n",
    "\n",
    "accuracy = accuracy_score(y_test, y_pred_best)\n",
    "print(\"Best Model Accuracy:\", accuracy)\n",
    "print(\"\\nClassification Report:\\n\", classification_report(y_test, y_pred_best))"
   ]
  },
  {
   "cell_type": "code",
   "execution_count": 47,
   "id": "eb95f579",
   "metadata": {},
   "outputs": [
    {
     "name": "stdout",
     "output_type": "stream",
     "text": [
      "*********** Randomized Search with CatBoost ***********\n",
      "\n",
      "Best Parameters: {'learning_rate': 0.1, 'l2_leaf_reg': 1, 'iterations': 300, 'depth': 8, 'bagging_temperature': 1.0}\n",
      "\n",
      "Classification Report:\n",
      "               precision    recall  f1-score   support\n",
      "\n",
      "           0       0.66      0.92      0.77       122\n",
      "           1       0.99      0.94      0.96       910\n",
      "\n",
      "    accuracy                           0.93      1032\n",
      "   macro avg       0.82      0.93      0.86      1032\n",
      "weighted avg       0.95      0.93      0.94      1032\n",
      "\n"
     ]
    }
   ],
   "source": [
    "from sklearn.model_selection import RandomizedSearchCV\n",
    "\n",
    "random_search = RandomizedSearchCV(\n",
    "    estimator=catboost_model,\n",
    "    param_distributions=param_grid,\n",
    "    n_iter=50,  \n",
    "    cv=5,\n",
    "    scoring='accuracy',\n",
    "    random_state=42,\n",
    "    n_jobs=-1\n",
    ")\n",
    "random_search.fit(X_train_selected_forward, y_train_resampled)\n",
    "\n",
    "y_pred_random_search = random_search.best_estimator_.predict(X_test_selected_forward)\n",
    "\n",
    "print(\"*********** Randomized Search with CatBoost ***********\\n\")\n",
    "print(\"Best Parameters:\", random_search.best_params_)\n",
    "print(\"\\nClassification Report:\\n\", classification_report(y_test, y_pred_random_search))\n"
   ]
  },
  {
   "cell_type": "markdown",
   "id": "f82f0e67",
   "metadata": {},
   "source": [
    "## XGBoost model training\n",
    "XGBoost is known for its robust gradient-boosting mechanism and efficient handling of large datasets, with strong generalization capabilities across various data types. It can work effectively with your balanced, encoded data and often performs exceptionally well with carefully engineered features."
   ]
  },
  {
   "cell_type": "code",
   "execution_count": 48,
   "id": "41578312",
   "metadata": {},
   "outputs": [
    {
     "name": "stdout",
     "output_type": "stream",
     "text": [
      "*********** Forward Selection ***********\n",
      "\n",
      "XGBoost Model Accuracy with Selected Features: 0.9341085271317829\n",
      "\n",
      "Classification Report:\n",
      "               precision    recall  f1-score   support\n",
      "\n",
      "           0       0.66      0.93      0.77       122\n",
      "           1       0.99      0.94      0.96       910\n",
      "\n",
      "    accuracy                           0.93      1032\n",
      "   macro avg       0.82      0.93      0.87      1032\n",
      "weighted avg       0.95      0.93      0.94      1032\n",
      "\n"
     ]
    }
   ],
   "source": [
    "xgboost_model = XGBClassifier(random_state=42, eval_metric='logloss')\n",
    "xgboost_model.fit(X_train_selected_forward, y_train_resampled)\n",
    "\n",
    "y_predXG = xgboost_model.predict(X_test_selected_forward)\n",
    "accuracy = accuracy_score(y_test, y_predXG)\n",
    "\n",
    "print(\"*********** Forward Selection ***********\\n\")\n",
    "print(\"XGBoost Model Accuracy with Selected Features:\", accuracy)\n",
    "print(\"\\nClassification Report:\\n\", classification_report(y_test, y_predXG))"
   ]
  },
  {
   "cell_type": "code",
   "execution_count": 49,
   "id": "75699e4a",
   "metadata": {},
   "outputs": [
    {
     "name": "stdout",
     "output_type": "stream",
     "text": [
      "*********** Backward Elimination ***********\n",
      "\n",
      "XGBoost Model Accuracy with Selected Features: 0.935077519379845\n",
      "\n",
      "Classification Report:\n",
      "               precision    recall  f1-score   support\n",
      "\n",
      "           0       0.66      0.93      0.77       122\n",
      "           1       0.99      0.94      0.96       910\n",
      "\n",
      "    accuracy                           0.94      1032\n",
      "   macro avg       0.83      0.93      0.87      1032\n",
      "weighted avg       0.95      0.94      0.94      1032\n",
      "\n"
     ]
    }
   ],
   "source": [
    "xgboost_model_backward = XGBClassifier(random_state=42, eval_metric='logloss')\n",
    "xgboost_model_backward.fit(X_train_selected_backward, y_train_resampled)\n",
    "\n",
    "y_pred_backwardXG = xgboost_model_backward.predict(X_test_selected_backward)\n",
    "accuracy = accuracy_score(y_test, y_pred_backwardXG)\n",
    "\n",
    "print(\"*********** Backward Elimination ***********\\n\")\n",
    "print(\"XGBoost Model Accuracy with Selected Features:\", accuracy)\n",
    "print(\"\\nClassification Report:\\n\", classification_report(y_test, y_pred_backwardXG))"
   ]
  },
  {
   "cell_type": "markdown",
   "id": "da2376c3",
   "metadata": {},
   "source": [
    "### Hyperparameter tuning for XGBoost"
   ]
  },
  {
   "cell_type": "code",
   "execution_count": 50,
   "id": "ade3be99",
   "metadata": {},
   "outputs": [
    {
     "name": "stdout",
     "output_type": "stream",
     "text": [
      "Best Parameters from RandomizedSearchCV: {'subsample': 0.7, 'reg_lambda': 2.0, 'reg_alpha': 0.1, 'n_estimators': 400, 'max_depth': 8, 'learning_rate': 0.1, 'gamma': 0.3, 'colsample_bytree': 1.0}\n",
      "Best Accuracy Score from RandomizedSearchCV: 0.9613480055020632\n",
      "\n",
      "*********** XGBoost with RandomizedSearchCV ***********\n",
      "\n",
      "Model Accuracy with Best Parameters: 0.9341085271317829\n",
      "\n",
      "Classification Report:\n",
      "               precision    recall  f1-score   support\n",
      "\n",
      "           0       0.66      0.93      0.77       122\n",
      "           1       0.99      0.94      0.96       910\n",
      "\n",
      "    accuracy                           0.93      1032\n",
      "   macro avg       0.82      0.93      0.87      1032\n",
      "weighted avg       0.95      0.93      0.94      1032\n",
      "\n"
     ]
    }
   ],
   "source": [
    "param_grid = {\n",
    "    'max_depth': [3, 4, 6, 8, 10],\n",
    "    'learning_rate': [0.01, 0.05, 0.1, 0.2],\n",
    "    'n_estimators': [100, 200, 300, 400],\n",
    "    'colsample_bytree': [0.3, 0.5, 0.7, 1.0],\n",
    "    'subsample': [0.5, 0.7, 1.0],\n",
    "    'gamma': [0, 0.1, 0.3, 0.5],\n",
    "    'reg_alpha': [0, 0.1, 0.5, 1.0],\n",
    "    'reg_lambda': [0.5, 1.0, 1.5, 2.0]\n",
    "}\n",
    "\n",
    "xgboost_model = XGBClassifier(random_state=42, eval_metric='logloss')\n",
    "\n",
    "random_search = RandomizedSearchCV(\n",
    "    estimator=xgboost_model,\n",
    "    param_distributions=param_grid,\n",
    "    n_iter=50,  \n",
    "    cv=5,\n",
    "    scoring='accuracy',\n",
    "    random_state=42,\n",
    "    n_jobs=-1\n",
    ")\n",
    "\n",
    "random_search.fit(X_train_selected_forward, y_train_resampled)\n",
    "\n",
    "print(\"Best Parameters from RandomizedSearchCV:\", random_search.best_params_)\n",
    "print(\"Best Accuracy Score from RandomizedSearchCV:\", random_search.best_score_)\n",
    "\n",
    "y_predXG_random = random_search.best_estimator_.predict(X_test_selected_forward)\n",
    "\n",
    "accuracy = accuracy_score(y_test, y_predXG_random)\n",
    "print(\"\\n*********** XGBoost with RandomizedSearchCV ***********\\n\")\n",
    "print(\"Model Accuracy with Best Parameters:\", accuracy)\n",
    "print(\"\\nClassification Report:\\n\", classification_report(y_test, y_predXG_random))\n"
   ]
  },
  {
   "cell_type": "markdown",
   "id": "5f5d90e3",
   "metadata": {},
   "source": [
    "## Random Forest model training\n",
    "\n",
    "Random Forest is an ensemble machine learning algorithm that builds multiple decision trees and combines their outputs for more accurate and stable predictions. \\\n",
    "<br>\n",
    "**Key Features:**\n",
    "- **Multiple Decision Trees:** Random Forest constructs several independent decision trees during training, each trained on a random subset of the data and features.\n",
    "- **Voting/Averaging:** In classification tasks, each tree votes for a class, and the final prediction is the class with the most votes (majority voting). For regression, it averages the predictions from all trees.\n",
    "- **Bagging:** This technique (Bootstrap Aggregating) involves randomly sampling data with replacement to create multiple training sets. Each tree gets a unique subset of the original data, adding to model diversity.\n",
    "- **Feature Randomness:** To further reduce correlation between trees, each tree considers a random subset of features at each split, making the model less likely to overfit to noise in the data."
   ]
  },
  {
   "cell_type": "code",
   "execution_count": 51,
   "id": "0fa542a3",
   "metadata": {},
   "outputs": [
    {
     "name": "stdout",
     "output_type": "stream",
     "text": [
      "*********** Forward Selection ***********\n",
      "\n",
      "RandomForest Model Accuracy with Selected Features: 0.9331395348837209\n",
      "\n",
      "Classification Report:\n",
      "               precision    recall  f1-score   support\n",
      "\n",
      "           0       0.66      0.90      0.76       122\n",
      "           1       0.99      0.94      0.96       910\n",
      "\n",
      "    accuracy                           0.93      1032\n",
      "   macro avg       0.82      0.92      0.86      1032\n",
      "weighted avg       0.95      0.93      0.94      1032\n",
      "\n"
     ]
    }
   ],
   "source": [
    "rf_model = RandomForestClassifier(random_state=42)\n",
    "rf_model.fit(X_train_selected_forward, y_train_resampled)\n",
    "\n",
    "y_pred_rf = rf_model.predict(X_test_selected_forward)\n",
    "accuracy_rf = accuracy_score(y_test, y_pred_rf)\n",
    "\n",
    "print(\"*********** Forward Selection ***********\\n\")\n",
    "print(\"RandomForest Model Accuracy with Selected Features:\", accuracy_rf)\n",
    "print(\"\\nClassification Report:\\n\", classification_report(y_test, y_pred_rf))"
   ]
  },
  {
   "cell_type": "code",
   "execution_count": 52,
   "id": "75743b19",
   "metadata": {},
   "outputs": [
    {
     "name": "stdout",
     "output_type": "stream",
     "text": [
      "*********** Backward Elimination ***********\n",
      "\n",
      "RandomForest Model Accuracy with Selected Features: 0.9312015503875969\n",
      "\n",
      "Classification Report:\n",
      "               precision    recall  f1-score   support\n",
      "\n",
      "           0       0.65      0.89      0.75       122\n",
      "           1       0.98      0.94      0.96       910\n",
      "\n",
      "    accuracy                           0.93      1032\n",
      "   macro avg       0.82      0.91      0.86      1032\n",
      "weighted avg       0.95      0.93      0.94      1032\n",
      "\n"
     ]
    }
   ],
   "source": [
    "rf_model_backward = RandomForestClassifier(random_state=42)\n",
    "rf_model_backward.fit(X_train_selected_backward, y_train_resampled)\n",
    "\n",
    "y_pred_rf_backward = rf_model_backward.predict(X_test_selected_backward)\n",
    "accuracy_rf = accuracy_score(y_test, y_pred_rf_backward)\n",
    "\n",
    "print(\"*********** Backward Elimination ***********\\n\")\n",
    "print(\"RandomForest Model Accuracy with Selected Features:\", accuracy_rf)\n",
    "print(\"\\nClassification Report:\\n\", classification_report(y_test, y_pred_rf_backward))"
   ]
  },
  {
   "cell_type": "markdown",
   "id": "67c7f85a",
   "metadata": {},
   "source": [
    "### Hyperparameter tuning for Random Forest Classifier"
   ]
  },
  {
   "cell_type": "code",
   "execution_count": 53,
   "id": "93585080",
   "metadata": {},
   "outputs": [
    {
     "name": "stdout",
     "output_type": "stream",
     "text": [
      "Best Parameters for RandomForest: {'bootstrap': True, 'max_depth': 30, 'max_features': 'sqrt', 'min_samples_leaf': 1, 'min_samples_split': 2, 'n_estimators': 200}\n",
      "Best Cross-Validated Accuracy Score: 0.9629986244841817\n",
      "\n",
      "*********** Hyperparameter-Tuned RandomForest ***********\n",
      "\n",
      "RandomForest Model Accuracy with Tuned Hyperparameters: 0.9321705426356589\n",
      "\n",
      "Classification Report:\n",
      "               precision    recall  f1-score   support\n",
      "\n",
      "           0       0.66      0.89      0.76       122\n",
      "           1       0.98      0.94      0.96       910\n",
      "\n",
      "    accuracy                           0.93      1032\n",
      "   macro avg       0.82      0.92      0.86      1032\n",
      "weighted avg       0.95      0.93      0.94      1032\n",
      "\n"
     ]
    }
   ],
   "source": [
    "param_grid_rf = {\n",
    "    'n_estimators': [100, 200, 300],        # Number of trees in the forest\n",
    "    'max_depth': [10, 20, 30, None],        # Maximum depth of the tree\n",
    "    'min_samples_split': [2, 5, 10],        # Minimum samples required to split a node\n",
    "    'min_samples_leaf': [1, 2, 4],          # Minimum samples required at each leaf node\n",
    "    'max_features': ['sqrt', 'log2', None], # Number of features to consider at each split\n",
    "    'bootstrap': [True, False]              # Whether bootstrap samples are used when building trees\n",
    "}\n",
    "\n",
    "rf_model = RandomForestClassifier(random_state=42)\n",
    "\n",
    "grid_search_rf = GridSearchCV(estimator=rf_model, param_grid=param_grid_rf, cv=5, scoring='accuracy', n_jobs=-1)\n",
    "grid_search_rf.fit(X_train_selected_forward, y_train_resampled)\n",
    "\n",
    "best_params_rf = grid_search_rf.best_params_\n",
    "best_score_rf = grid_search_rf.best_score_\n",
    "\n",
    "print(\"Best Parameters for RandomForest:\", best_params_rf)\n",
    "print(\"Best Cross-Validated Accuracy Score:\", best_score_rf)\n",
    "\n",
    "best_rf_model = grid_search_rf.best_estimator_\n",
    "y_pred_rf_tuned = best_rf_model.predict(X_test_selected_forward)\n",
    "\n",
    "accuracy_rf_tuned = accuracy_score(y_test, y_pred_rf_tuned)\n",
    "print(\"\\n*********** Hyperparameter-Tuned RandomForest ***********\\n\")\n",
    "print(\"RandomForest Model Accuracy with Tuned Hyperparameters:\", accuracy_rf_tuned)\n",
    "print(\"\\nClassification Report:\\n\", classification_report(y_test, y_pred_rf_tuned))\n"
   ]
  },
  {
   "cell_type": "markdown",
   "id": "c1460da9",
   "metadata": {},
   "source": [
    "## Ensemble Techniques\n",
    "Ensemble learning in machine learning combines multiple individual models to create a stronger, more accurate predictive model. By leveraging the diverse strengths of different models, ensemble learning aims to mitigate errors, enhance performance, and increase the overall robustness of predictions, leading to improved results across various tasks in machine learning and data analysis."
   ]
  },
  {
   "cell_type": "markdown",
   "id": "f8466183",
   "metadata": {},
   "source": [
    "#### Bagging (Bootstrap Aggregating)\n",
    "- **Data Sampling:** Creating multiple subsets of the training dataset using bootstrap sampling (random sampling with replacement).\n",
    "- **Model Training:** raining a separate model on each subset of the data.\n",
    "- **Aggregation:** Combining the predictions from all individual models (averaged for regression or majority voting for classification) to produce the final output.\n",
    "\n",
    "## Max Voting\n",
    "It is commonly used for classification problems to take the mode of the predictions (the most occurring prediction). It’s called voting because, like in election voting, the premise is that ‘the majority rules.’ Each model makes a prediction, and a prediction from each model counts as a single ‘vote.’ The most occurring ‘vote’ is chosen as the representative for the combined model."
   ]
  },
  {
   "cell_type": "code",
   "execution_count": 54,
   "id": "c1f45798",
   "metadata": {},
   "outputs": [
    {
     "name": "stdout",
     "output_type": "stream",
     "text": [
      "*********** Ensemble Voting Classifier ***********\n",
      "\n",
      "Ensemble Model Accuracy: 0.9341085271317829\n",
      "\n",
      "Classification Report:\n",
      "               precision    recall  f1-score   support\n",
      "\n",
      "           0       0.66      0.93      0.77       122\n",
      "           1       0.99      0.94      0.96       910\n",
      "\n",
      "    accuracy                           0.93      1032\n",
      "   macro avg       0.82      0.93      0.87      1032\n",
      "weighted avg       0.95      0.93      0.94      1032\n",
      "\n"
     ]
    }
   ],
   "source": [
    "catboost_model = CatBoostClassifier(random_seed=42, verbose=0)\n",
    "xgboost_model = XGBClassifier(random_state=42, eval_metric='logloss')\n",
    "rf_model = RandomForestClassifier(random_state=42)\n",
    "\n",
    "catboost_model.fit(X_train_selected_forward, y_train_resampled)\n",
    "xgboost_model.fit(X_train_selected_forward, y_train_resampled)\n",
    "rf_model.fit(X_train_selected_forward, y_train_resampled)\n",
    "\n",
    "voting_ensemble = VotingClassifier(\n",
    "    estimators=[('catboost', catboost_model), ('xgboost', xgboost_model), ('rf', rf_model)],\n",
    "    voting='soft'  # 'soft' uses probabilities; 'hard' uses majority voting\n",
    ")\n",
    "\n",
    "voting_ensemble.fit(X_train_selected_forward, y_train_resampled)\n",
    "\n",
    "y_pred_ensemble = voting_ensemble.predict(X_test_selected_forward)\n",
    "accuracy_ensemble = accuracy_score(y_test, y_pred_ensemble)\n",
    "\n",
    "print(\"*********** Ensemble Voting Classifier ***********\\n\")\n",
    "print(\"Ensemble Model Accuracy:\", accuracy_ensemble)\n",
    "print(\"\\nClassification Report:\\n\", classification_report(y_test, y_pred_ensemble))"
   ]
  },
  {
   "cell_type": "markdown",
   "id": "095bd8e2",
   "metadata": {},
   "source": [
    "## Weighted Voting\n",
    "\n",
    "In Weighted Voting, each model's vote is assigned a weight based on its performance (e.g., accuracy). Models with higher performance have more influence over the final prediction.\n",
    "- Calculate the weights for each model based on a chosen metric (e.g., accuracy, precision).\n",
    "- Multiply each model's prediction by its weight.\n",
    "- The class with the highest weighted score is selected as the final prediction.\n"
   ]
  },
  {
   "cell_type": "code",
   "execution_count": 55,
   "id": "1ec4caeb",
   "metadata": {},
   "outputs": [
    {
     "name": "stdout",
     "output_type": "stream",
     "text": [
      "*********** Weighted Voting Classifier ***********\n",
      "\n",
      "Weighted Ensemble Model Accuracy: 0.9331395348837209\n",
      "\n",
      "Classification Report:\n",
      "               precision    recall  f1-score   support\n",
      "\n",
      "           0       0.65      0.93      0.77       122\n",
      "           1       0.99      0.93      0.96       910\n",
      "\n",
      "    accuracy                           0.93      1032\n",
      "   macro avg       0.82      0.93      0.86      1032\n",
      "weighted avg       0.95      0.93      0.94      1032\n",
      "\n"
     ]
    }
   ],
   "source": [
    "voting_ensemble_weighted = VotingClassifier(\n",
    "    estimators=[('catboost', catboost_model), ('xgboost', xgboost_model), ('rf', rf_model)],\n",
    "    voting='soft', \n",
    "    weights=[3, 2, 1]  \n",
    ")\n",
    "\n",
    "voting_ensemble_weighted.fit(X_train_selected_forward, y_train_resampled)\n",
    "\n",
    "y_pred_weighted = voting_ensemble_weighted.predict(X_test_selected_forward)\n",
    "accuracy_weighted = accuracy_score(y_test, y_pred_weighted)\n",
    "\n",
    "print(\"*********** Weighted Voting Classifier ***********\\n\")\n",
    "print(\"Weighted Ensemble Model Accuracy:\", accuracy_weighted)\n",
    "print(\"\\nClassification Report:\\n\", classification_report(y_test, y_pred_weighted))"
   ]
  },
  {
   "cell_type": "markdown",
   "id": "0c068269",
   "metadata": {},
   "source": [
    "## Stacking \n",
    "Stacking (Stacked Generalization) is an ensemble learning technique that aims to combine multiple models to improve predictive performance.\n",
    "- **Base Models:** Training multiple models (level-0 models) on the same dataset.\n",
    "- **Meta-Model:** Training a new model (level-1 or meta-model) to combine the predictions of the base models. Using the predictions of the base models as input features for the meta-model."
   ]
  },
  {
   "cell_type": "code",
   "execution_count": 56,
   "id": "d9468dc0",
   "metadata": {},
   "outputs": [
    {
     "name": "stdout",
     "output_type": "stream",
     "text": [
      "*********** Stacking Classifier ***********\n",
      "\n",
      "Stacking Ensemble Model Accuracy: 0.9312015503875969\n",
      "\n",
      "Classification Report:\n",
      "               precision    recall  f1-score   support\n",
      "\n",
      "           0       0.65      0.90      0.76       122\n",
      "           1       0.99      0.94      0.96       910\n",
      "\n",
      "    accuracy                           0.93      1032\n",
      "   macro avg       0.82      0.92      0.86      1032\n",
      "weighted avg       0.95      0.93      0.94      1032\n",
      "\n"
     ]
    }
   ],
   "source": [
    "stacking_ensemble = StackingClassifier(\n",
    "    estimators=[('catboost', catboost_model), ('xgboost', xgboost_model), ('rf', rf_model)],\n",
    "    final_estimator=LogisticRegression()  # Meta-model to combine predictions\n",
    ")\n",
    "\n",
    "stacking_ensemble.fit(X_train_selected_forward, y_train_resampled)\n",
    "\n",
    "y_pred_stacking = stacking_ensemble.predict(X_test_selected_forward)\n",
    "accuracy_stacking = accuracy_score(y_test, y_pred_stacking)\n",
    "\n",
    "print(\"*********** Stacking Classifier ***********\\n\")\n",
    "print(\"Stacking Ensemble Model Accuracy:\", accuracy_stacking)\n",
    "print(\"\\nClassification Report:\\n\", classification_report(y_test, y_pred_stacking))"
   ]
  },
  {
   "cell_type": "markdown",
   "id": "fd7b2d6f",
   "metadata": {},
   "source": [
    "### Balanced Random Classifier"
   ]
  },
  {
   "cell_type": "code",
   "execution_count": 57,
   "id": "54aa968d",
   "metadata": {},
   "outputs": [
    {
     "name": "stdout",
     "output_type": "stream",
     "text": [
      "*********** Forward Selection ***********\n",
      "\n",
      "Balanced RandomForest Model Accuracy with Selected Features: 0.9321705426356589\n",
      "\n",
      "Classification Report:\n",
      "               precision    recall  f1-score   support\n",
      "\n",
      "           0       0.66      0.86      0.75       122\n",
      "           1       0.98      0.94      0.96       910\n",
      "\n",
      "    accuracy                           0.93      1032\n",
      "   macro avg       0.82      0.90      0.86      1032\n",
      "weighted avg       0.94      0.93      0.94      1032\n",
      "\n"
     ]
    },
    {
     "data": {
      "image/png": "[encoded data removed]",
      "text/plain": [
       "<Figure size 1000x600 with 1 Axes>"
      ]
     },
     "metadata": {},
     "output_type": "display_data"
    }
   ],
   "source": [
    "brf_model = BalancedRandomForestClassifier(random_state=42, n_estimators=100)\n",
    "brf_model.fit(X_train_resampled, y_train_resampled)\n",
    "\n",
    "y_pred_brf = brf_model.predict(X_test)\n",
    "accuracy_brf = accuracy_score(y_test, y_pred_brf)\n",
    "\n",
    "print(\"*********** Forward Selection ***********\\n\")\n",
    "print(\"Balanced RandomForest Model Accuracy with Selected Features:\", accuracy_brf)\n",
    "print(\"\\nClassification Report:\\n\", classification_report(y_test, y_pred_brf))\n",
    "\n",
    "importances = brf_model.feature_importances_\n",
    "indices = np.argsort(importances)[::-1]\n",
    "\n",
    "plt.figure(figsize=(10, 6))\n",
    "plt.title(\"Feature Importances from BalancedRandomForestClassifier\")\n",
    "plt.bar(range(X_train_resampled.shape[1]), importances[indices], color=\"skyblue\", align=\"center\")\n",
    "plt.xticks(range(X_train_resampled.shape[1]), [df_encoded.columns[i] for i in indices], rotation=90)\n",
    "plt.xlabel(\"Features\")\n",
    "plt.ylabel(\"Importance\")\n",
    "plt.show()"
   ]
  },
  {
   "cell_type": "markdown",
   "id": "2cb19367",
   "metadata": {},
   "source": [
    "## ROC-AUC\n",
    "The ROC (Receiver Operating Characteristic) curve and its associated AUC (Area Under the Curve) metric are widely used for evaluating the performance of binary classification models.\n",
    "- **ROC Curve:** The ROC curve plots the True Positive Rate (Sensitivity or Recall) against the False Positive Rate (1 - Specificity) at different threshold levels. It helps visualize how well a classifier can separate the positive and negative classes, showing the trade-off between sensitivity and specificity.\n",
    "- **AUC (Area Under the Curve):** AUC is a single scalar value that summarizes the ROC curve. It represents the probability that the model will rank a randomly chosen positive instance higher than a randomly chosen negative instance.\n",
    "\n",
    "#### Interpreting the ROC Curve and AUC\n",
    "- The closer the curve is to the top-left corner, the better the model's ability to distinguish between positive and negative classes.\n",
    "- AUC provides a quick, summary metric: higher AUC indicates a better-performing model. When comparing multiple models on the same data, a higher AUC typically indicates a model with better discrimination ability.\n",
    "\n",
    "To plot the ROC curve in Python:\n",
    "- **Calculate** the TPR and FPR values across thresholds using roc_curve.\n",
    "- **Plot** the ROC curve with TPR on the y-axis and FPR on the x-axis.\n",
    "- **Calculate the AUC** score using roc_auc_score, which is often displayed in the legend or plot title."
   ]
  },
  {
   "cell_type": "code",
   "execution_count": 59,
   "id": "6e9a0660",
   "metadata": {},
   "outputs": [
    {
     "data": {
      "image/png": "[encoded data removed]",
      "text/plain": [
       "<Figure size 1000x800 with 1 Axes>"
      ]
     },
     "metadata": {},
     "output_type": "display_data"
    }
   ],
   "source": [
    "# CatBoost\n",
    "y_pred_proba_catboost = catboost_model.predict_proba(X_test_selected_forward)[:, 1]\n",
    "roc_auc_catboost = roc_auc_score(y_test, y_pred_proba_catboost)\n",
    "fpr_cat, tpr_cat, _ = roc_curve(y_test, y_pred_proba_catboost)\n",
    "\n",
    "# XGBoost\n",
    "y_pred_proba_xgboost = xgboost_model.predict_proba(X_test_selected_forward)[:, 1]\n",
    "roc_auc_xgboost = roc_auc_score(y_test, y_pred_proba_xgboost)\n",
    "fpr_xg, tpr_xg, _ = roc_curve(y_test, y_pred_proba_xgboost)\n",
    "\n",
    "# RandomForest\n",
    "y_pred_proba_rf = rf_model.predict_proba(X_test_selected_forward)[:, 1]\n",
    "roc_auc_rf = roc_auc_score(y_test, y_pred_proba_rf)\n",
    "fpr_rf, tpr_rf, _ = roc_curve(y_test, y_pred_proba_rf)\n",
    "\n",
    "# BalancedRandomForest\n",
    "y_pred_proba_brf = brf_model.predict_proba(X_test)[:, 1]\n",
    "roc_auc_brf = roc_auc_score(y_test, y_pred_proba_brf)\n",
    "fpr_brf, tpr_brf, _ = roc_curve(y_test, y_pred_proba_brf)\n",
    "\n",
    "# Voting Ensemble\n",
    "y_pred_proba_voting = voting_ensemble.predict_proba(X_test_selected_forward)[:, 1]\n",
    "roc_auc_voting = roc_auc_score(y_test, y_pred_proba_voting)\n",
    "fpr_voting, tpr_voting, _ = roc_curve(y_test, y_pred_proba_voting)\n",
    "\n",
    "# Weighted Voting Ensemble\n",
    "y_pred_proba_weighted = voting_ensemble_weighted.predict_proba(X_test_selected_forward)[:, 1]\n",
    "roc_auc_weighted = roc_auc_score(y_test, y_pred_proba_weighted)\n",
    "fpr_weighted, tpr_weighted, _ = roc_curve(y_test, y_pred_proba_weighted)\n",
    "\n",
    "# Stacking Ensemble\n",
    "y_pred_proba_stacking = stacking_ensemble.predict_proba(X_test_selected_forward)[:, 1]\n",
    "roc_auc_stacking = roc_auc_score(y_test, y_pred_proba_stacking)\n",
    "fpr_stacking, tpr_stacking, _ = roc_curve(y_test, y_pred_proba_stacking)\n",
    "\n",
    "plt.figure(figsize=(10, 8))\n",
    "\n",
    "plt.plot(fpr_cat, tpr_cat, label=f'CatBoost (AUC = {roc_auc_catboost:.4f})')\n",
    "plt.plot(fpr_xg, tpr_xg, label=f'XGBoost (AUC = {roc_auc_xgboost:.4f})')\n",
    "plt.plot(fpr_rf, tpr_rf, label=f'RandomForest (AUC = {roc_auc_rf:.4f})')\n",
    "plt.plot(fpr_brf, tpr_brf, label=f'Balanced RandomForest (AUC = {roc_auc_brf:.4f})')\n",
    "plt.plot(fpr_voting, tpr_voting, label=f'Voting Ensemble (AUC = {roc_auc_voting:.4f})')\n",
    "plt.plot(fpr_weighted, tpr_weighted, label=f'Weighted Voting Ensemble (AUC = {roc_auc_weighted:.4f})')\n",
    "plt.plot(fpr_stacking, tpr_stacking, label=f'Stacking Ensemble (AUC = {roc_auc_stacking:.4f})')\n",
    "\n",
    "plt.plot([0, 1], [0, 1], 'k--')\n",
    "\n",
    "plt.xlabel('False Positive Rate')\n",
    "plt.ylabel('True Positive Rate')\n",
    "plt.title('ROC Curves for Individual Models and Ensemble Approaches')\n",
    "plt.legend()\n",
    "plt.show()"
   ]
  },
  {
   "cell_type": "code",
   "execution_count": null,
   "id": "4c4f5c00",
   "metadata": {},
   "outputs": [],
   "source": []
  },
  {
   "cell_type": "code",
   "execution_count": null,
   "id": "e92eb3c3",
   "metadata": {},
   "outputs": [],
   "source": []
  },
  {
   "cell_type": "code",
   "execution_count": null,
   "id": "c9d94855",
   "metadata": {},
   "outputs": [],
   "source": []
  },
  {
   "cell_type": "code",
   "execution_count": null,
   "id": "2cdc3b71",
   "metadata": {},
   "outputs": [],
   "source": []
  },
  {
   "cell_type": "code",
   "execution_count": null,
   "id": "fdbfe46d",
   "metadata": {},
   "outputs": [],
   "source": []
  }
 ],
 "metadata": {
  "kernelspec": {
   "display_name": "Python 3 (ipykernel)",
   "language": "python",
   "name": "python3"
  },
  "language_info": {
   "codemirror_mode": {
    "name": "ipython",
    "version": 3
   },
   "file_extension": ".py",
   "mimetype": "text/x-python",
   "name": "python",
   "nbconvert_exporter": "python",
   "pygments_lexer": "ipython3",
   "version": "3.10.9"
  }
 },
 "nbformat": 4,
 "nbformat_minor": 5
}
